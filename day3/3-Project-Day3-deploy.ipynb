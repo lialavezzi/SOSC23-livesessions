{
 "cells": [
  {
   "cell_type": "markdown",
   "id": "e8108b3b-f2e2-4f9a-a4b8-9aac023d5f68",
   "metadata": {},
   "source": [
    "# Project - Day 3 - Deploy you model (in a notebook)\n",
    "\n",
    "In the main notebook of the today exercise, we developed and trained a Convolutional Neural Network 🥞 for distinguishing electron recoil events from Nuclear Recoil events that are more expected to be associated to Dark Matter collisions 💥.\n",
    "\n",
    "We concluded that notebook by storing on Minio the classification model.\n",
    "\n",
    "In this notebook we will retrieve the model from Minio and we will deploy it to classify the preprocessed events as prepared during Day 2.\n",
    "\n",
    "Developing this step in a dedicated notebook, will enable injecting it in a reproducible pipeline that you can ship everywhere as we will discuss tomorrow."
   ]
  },
  {
   "cell_type": "markdown",
   "id": "013d7070-250e-431a-85e9-2f759548a188",
   "metadata": {},
   "source": [
    "## Loading libraries, data and model\n",
    "\n",
    "### Loading libraries"
   ]
  },
  {
   "cell_type": "code",
   "execution_count": 1,
   "id": "cce2eb6c-defc-497b-8b38-714607840575",
   "metadata": {},
   "outputs": [
    {
     "name": "stderr",
     "output_type": "stream",
     "text": [
      "2023-10-26 15:00:47.397745: I tensorflow/core/platform/cpu_feature_guard.cc:193] This TensorFlow binary is optimized with oneAPI Deep Neural Network Library (oneDNN) to use the following CPU instructions in performance-critical operations:  SSE4.1 SSE4.2 AVX AVX2 FMA\n",
      "To enable them in other operations, rebuild TensorFlow with the appropriate compiler flags.\n"
     ]
    }
   ],
   "source": [
    "## We will be using Numpy, Pyplot and Tensorflow as our scientific tool box\n",
    "import numpy as np \n",
    "import matplotlib.pyplot as plt\n",
    "import tensorflow as tf\n",
    "\n",
    "## BytesIO for defining in-memory file-like objects\n",
    "from io import BytesIO\n",
    "\n",
    "## Dask and in particular dask array for defining OOM pipelines\n",
    "import dask\n",
    "import dask.array as da\n",
    "\n",
    "## Progress bars\n",
    "from tqdm import tqdm\n"
   ]
  },
  {
   "cell_type": "markdown",
   "id": "5ac14455-6a4b-4ada-8adc-ec01f91ffa82",
   "metadata": {},
   "source": [
    "### Listing data objects stored in Minio\n",
    "You should now have a wealth of about 1 hours of data taking stored in your Minio. If you were succesful yesterday, the data stored on Minio should be preprocessed as well. \n",
    "\n",
    "But since files are uploaded automatically by the pipeline, as a first thing we need a list of what is available in the bucket.\n"
   ]
  },
  {
   "cell_type": "code",
   "execution_count": 2,
   "id": "75448c90-c351-4e7f-a75f-146640796135",
   "metadata": {
    "editable": true,
    "slideshow": {
     "slide_type": ""
    },
    "tags": []
   },
   "outputs": [
    {
     "name": "stdout",
     "output_type": "stream",
     "text": [
      "Username: lia-2elavezzi\n",
      "password: 957ba464403d7d86aa1e6d6b7c289da7\n"
     ]
    }
   ],
   "source": [
    "import hashlib\n",
    "import os\n",
    "#username = os.environ['JUPYTERHUB_USER']\n",
    "username='lia-2elavezzi'\n",
    "hash_object = hashlib.md5(f'{username}'.encode())\n",
    "password = hash_object.hexdigest()\n",
    "print(f\"Username: {username}\\npassword: {password}\")"
   ]
  },
  {
   "cell_type": "markdown",
   "id": "0b55c185-7e83-4c6d-a048-a2b19141a806",
   "metadata": {},
   "source": [
    "### Load the latest file\n",
    "\n",
    "The following snippet of code allows to load a numpy file directly from Minio, given the bucket and the object names.\n",
    "\n",
    "Try to use this function to load the latest object name (as defined in `object_names[-1]`). \n",
    "\n",
    "You can use the following function to inspect the content of a \n",
    "numpy file as the one you have just downloaded:\n",
    "```python\n",
    "def inspect_np(npz_file):\n",
    "    \"\"\"Display key, shape and dtype of the arrays in a npz file\"\"\"\n",
    "    keys = np_file.keys()\n",
    "    print (\"Keys in file: \", \", \".join(keys))\n",
    "    for key in keys:\n",
    "        array = np_file[key]\n",
    "        print (\n",
    "            f\" - {key:<15s}\"\n",
    "            f\"   shape: {str(array.shape):<20s}\"\n",
    "            f\"   dtype: {array.dtype}\"\n",
    "          )\n",
    "```\n"
   ]
  },
  {
   "cell_type": "code",
   "execution_count": 3,
   "id": "a83b9725-688b-498d-a28a-b44bab77e299",
   "metadata": {},
   "outputs": [],
   "source": [
    "import boto3\n",
    "import json\n",
    "\n",
    "s3 = boto3.resource('s3',\n",
    "    aws_access_key_id=username,\n",
    "    aws_secret_access_key=password,\n",
    "    endpoint_url=\"https://minio.131.154.99.220.myip.cloud.infn.it\",\n",
    "    region_name='default',)\n",
    "\n",
    "bucket_name = username\n",
    "bucket=s3.Bucket(bucket_name)\n",
    "bucket\n",
    "\n",
    "object_names = [\n",
    "    obj.key for obj in bucket.objects.filter(\n",
    "        Prefix=\"preproc-store/\"\n",
    "    )\n",
    "]"
   ]
  },
  {
   "cell_type": "code",
   "execution_count": 4,
   "id": "3171414b-2cc1-4cd8-89c9-07121fe41b78",
   "metadata": {},
   "outputs": [
    {
     "name": "stdout",
     "output_type": "stream",
     "text": [
      "preproc-store/data-chunk-2023-10-26T14:31:40.879076.npz\n",
      "Keys in file:  image, tstamp\n",
      " - image             shape: (200, 128, 128)        dtype: float64\n",
      " - tstamp            shape: (200,)                 dtype: datetime64[us]\n"
     ]
    }
   ],
   "source": [
    "from io import BytesIO\n",
    "\n",
    "def load_npz_from_minio(s3, bucketname, object_name):\n",
    "    '''load an obj from minio into a numoy array'''\n",
    "    obj=s3.Bucket(bucketname).Object(object_name)\n",
    "    #print(obj.get()[\"Body\"].read())\n",
    "    return np.load(\n",
    "        BytesIO(\n",
    "            obj.get()[\"Body\"].read()\n",
    "        )\n",
    "    )\n",
    "\n",
    "def inspect_np(npz_file):\n",
    "    \"\"\"Display key, shape and dtype of the arrays in a npz file\"\"\"\n",
    "    keys = npz_file.keys()\n",
    "    print (\"Keys in file: \", \", \".join(keys))\n",
    "    for key in keys:\n",
    "        array = npz_file[key]\n",
    "        print (\n",
    "            f\" - {key:<15s}\"\n",
    "            f\"   shape: {str(array.shape):<20s}\"\n",
    "            f\"   dtype: {array.dtype}\"\n",
    "          )\n",
    "\n",
    "#Example on the last image file set\n",
    "last_object_name=object_names[-1]\n",
    "print(last_object_name)\n",
    "npz=load_npz_from_minio(s3, username, last_object_name)\n",
    "list(npz.keys())\n",
    "inspect_np(npz)"
   ]
  },
  {
   "cell_type": "markdown",
   "id": "583a19e0-255d-48c7-a9b8-48fdd1646a45",
   "metadata": {},
   "source": [
    "### Create a dask delayed function to download images and timestamps\n",
    "\n",
    "Consider and test the following function for obtaining a specific array from a generic npz object stored in Minio.\n",
    "```python\n",
    "@dask.delayed\n",
    "def load_array_from_minio(minio_client, bucket_name, object_name, npz_key):\n",
    "    \"\"\"Load an array identified by npz_key from an npz file in Minio\"\"\"\n",
    "    npz = load_npz_from_minio(minio_client, bucket_name, object_name)\n",
    "    return npz[npz_key] \n",
    "```\n",
    "\n",
    "Create a list of delayed dask arrays for the images and the timestamps. \n",
    "For example for the images you should have something like:\n",
    "```python\n",
    "delayed_images = [\n",
    "    da.from_delayed(\n",
    "        load_array_from_minio(minio, 'cygno-preprocessed', obj, 'image'),\n",
    "        shape=(10, 128, 128),\n",
    "        dtype=np.float64\n",
    "    )\n",
    "    for obj in object_names\n",
    "]\n",
    "```\n",
    "\n",
    "And finally, you can use `da.concatenate` con create a single array out of the many files you are ready to download.\n"
   ]
  },
  {
   "cell_type": "code",
   "execution_count": 5,
   "id": "7beb283b-0f25-40e0-b081-1ca06955a272",
   "metadata": {},
   "outputs": [],
   "source": [
    "@dask.delayed\n",
    "def load_array_from_minio(minio_client, bucketname, object_name, npz_key):\n",
    "    \"\"\"Load an array identified by npz_key from an npz file in Minio\"\"\"\n",
    "    npz = load_npz_from_minio(minio_client, bucketname, object_name)\n",
    "    return npz[npz_key]"
   ]
  },
  {
   "cell_type": "code",
   "execution_count": 6,
   "id": "db1ff56c-be12-466f-8185-71be51262d79",
   "metadata": {},
   "outputs": [
    {
     "name": "stdout",
     "output_type": "stream",
     "text": [
      "100 <class 'list'>\n",
      "(20000, 128, 128)\n",
      "images: 20000\n",
      "dask.array<concatenate, shape=(20000, 128, 128), dtype=float64, chunksize=(200, 128, 128), chunktype=numpy.ndarray>\n",
      "100\n",
      "(20000,)\n",
      "tstamps: 20000\n",
      "dask.array<concatenate, shape=(20000,), dtype=datetime64, chunksize=(200,), chunktype=numpy.ndarray>\n"
     ]
    }
   ],
   "source": [
    "# image\n",
    "delayed_images = [\n",
    "    da.from_delayed(\n",
    "        load_array_from_minio(s3, username, obj, 'image'),\n",
    "        shape=(200, 128, 128),\n",
    "        dtype=np.float64\n",
    "    )\n",
    "    for obj in object_names\n",
    "]\n",
    "print(len(delayed_images),type(delayed_images))\n",
    "\n",
    "all_images = dask.array.concatenate(delayed_images)\n",
    "print(all_images.shape)\n",
    "print(\"images:\",len(all_images))\n",
    "print(all_images)\n",
    "\n",
    "# label\n",
    "delayed_tstamps = [\n",
    "    da.from_delayed(\n",
    "        load_array_from_minio(s3, username, obj, 'tstamp'),\n",
    "        shape=(200,),\n",
    "        dtype=np.datetime64\n",
    "    )\n",
    "    for obj in object_names\n",
    "]\n",
    "\n",
    "print(len(delayed_tstamps))\n",
    "\n",
    "all_tstamps = dask.array.concatenate(delayed_tstamps)\n",
    "print(all_tstamps.shape)\n",
    "print(\"tstamps:\",len(all_tstamps))\n",
    "print(all_tstamps)"
   ]
  },
  {
   "cell_type": "markdown",
   "id": "6a4f9334-f13e-47ef-a86c-ab04158ee1d9",
   "metadata": {
    "editable": true,
    "slideshow": {
     "slide_type": ""
    },
    "tags": []
   },
   "source": [
    "#### Cross-check: list the latest 15 timestamps\n",
    "\n",
    "Now, to check that the pipeline works as expected, you may want to list the latest 15 time stamps and cross-check that the DAQ and the preprocessing are still alive. \n",
    "\n",
    "```python\n",
    "tstamps[-15:].compute()\n",
    "```"
   ]
  },
  {
   "cell_type": "code",
   "execution_count": 7,
   "id": "4a849629-7427-4c39-8e81-29d833e16087",
   "metadata": {},
   "outputs": [
    {
     "data": {
      "text/plain": [
       "array(['2023-10-26T14:31:38.542869', '2023-10-26T14:31:38.735505',\n",
       "       '2023-10-26T14:31:38.746865', '2023-10-26T14:31:38.840131',\n",
       "       '2023-10-26T14:31:39.091734', '2023-10-26T14:31:39.508449',\n",
       "       '2023-10-26T14:31:39.546816', '2023-10-26T14:31:39.993579',\n",
       "       '2023-10-26T14:31:40.341256', '2023-10-26T14:31:40.408822',\n",
       "       '2023-10-26T14:31:40.441402', '2023-10-26T14:31:40.728062',\n",
       "       '2023-10-26T14:31:40.841625', '2023-10-26T14:31:40.869858',\n",
       "       '2023-10-26T14:31:40.879076'], dtype='datetime64[us]')"
      ]
     },
     "execution_count": 7,
     "metadata": {},
     "output_type": "execute_result"
    }
   ],
   "source": [
    "all_tstamps[-15:].compute()"
   ]
  },
  {
   "cell_type": "markdown",
   "id": "c4283b4d-c4ed-4b6d-91c0-c27ea2365c25",
   "metadata": {},
   "source": [
    "### Load the classifier model\n",
    "\n",
    "Retrieve the keras model of the trained classifier from Minio using S3 and store it locally, for example in the file `./classifier.keras`, and then load it in keras.\n",
    "\n",
    "You may get started with the following function calls:\n",
    "```python\n",
    "## Download an object from Minio to Keras\n",
    "s3.Bucket(username).download_file('cygno-models/classifier.keras','classifier.keras')\n",
    "\n",
    "# Load the model file in Keras\n",
    "classifier = tf.keras.models.load_model('classifier.keras')\n",
    "```"
   ]
  },
  {
   "cell_type": "code",
   "execution_count": 8,
   "id": "c7183e85-11a4-4969-8ef7-674a0a386532",
   "metadata": {
    "editable": true,
    "slideshow": {
     "slide_type": ""
    },
    "tags": []
   },
   "outputs": [
    {
     "name": "stdout",
     "output_type": "stream",
     "text": [
      "Username: lia-2elavezzi\n",
      "password: 957ba464403d7d86aa1e6d6b7c289da7\n"
     ]
    },
    {
     "name": "stderr",
     "output_type": "stream",
     "text": [
      "2023-10-26 15:01:01.065138: I tensorflow/core/platform/cpu_feature_guard.cc:193] This TensorFlow binary is optimized with oneAPI Deep Neural Network Library (oneDNN) to use the following CPU instructions in performance-critical operations:  SSE4.1 SSE4.2 AVX AVX2 FMA\n",
      "To enable them in other operations, rebuild TensorFlow with the appropriate compiler flags.\n"
     ]
    }
   ],
   "source": [
    "## Download an object from Minio to Keras\n",
    "import hashlib\n",
    "import os\n",
    "import boto3\n",
    "\n",
    "username='lia-2elavezzi'\n",
    "hash_object = hashlib.md5(f'{username}'.encode())\n",
    "password = hash_object.hexdigest()\n",
    "print(f\"Username: {username}\\npassword: {password}\")\n",
    "\n",
    "s3.Bucket(username).download_file('model/classifier.keras','classifier.keras')\n",
    "# Load the model file in Keras\n",
    "classifier = tf.keras.models.load_model('classifier.keras')"
   ]
  },
  {
   "cell_type": "markdown",
   "id": "bb9aca96-011f-4e0e-893e-e60635f46e35",
   "metadata": {
    "editable": true,
    "slideshow": {
     "slide_type": ""
    },
    "tags": []
   },
   "source": [
    "## Evaluate the model\n",
    "\n",
    "You can now use the `predict_on_batch` function of keras to run the model on each block of the loaded images.\n",
    "\n",
    "Don't forget to rechunk the array of images to make avoid applying the neural network to each stored data file, separately (it would take forever).\n",
    "\n",
    "> 💡**Hint.**\n",
    "> You may want to check:\n",
    ">  * [the method `dask.array.rechunk`](https://docs.dask.org/en/latest/generated/dask.array.rechunk.html)\n",
    ">  * [the method `keras.models.Model.predict_on_batch`](https://keras.io/api/models/model_training_apis/#predictonbatch-method)\n",
    "\n",
    "> 🧑‍🔬**Professional Tip.** More effective Dask.\n",
    "> \n",
    "> If you are seeking for a skill-up in Dask, you may also want to check\n",
    "> [the method `.map_partitions`](https://docs.dask.org/en/stable/generated/dask.dataframe.DataFrame.map_partitions.html).\n",
    "> It requires some additional boiler-plate to work with respect to the\n",
    "> simple loop on blocks discussed in the [CVonEMNIST notebook](./CVonEMNIST.ipynb),\n",
    "> but it enables better parallelism and more efficient computing.\n",
    "\n",
    "In the following cells, we will assume that the output of the evaluation of the neural network has been stored in a variable named `predictions`.\n"
   ]
  },
  {
   "cell_type": "code",
   "execution_count": 26,
   "id": "d93808bd-1882-40ce-ba30-131e381eef32",
   "metadata": {
    "editable": true,
    "slideshow": {
     "slide_type": ""
    },
    "tags": []
   },
   "outputs": [
    {
     "name": "stdout",
     "output_type": "stream",
     "text": [
      "dask.array<rechunk-merge, shape=(20000, 128, 128), dtype=float64, chunksize=(20, 128, 128), chunktype=numpy.ndarray>\n"
     ]
    }
   ],
   "source": [
    "batch_size = 20,None,None\n",
    "all_images_rechunk = dask.array.rechunk(all_images, chunks=batch_size)\n",
    "print(all_images_rechunk)"
   ]
  },
  {
   "cell_type": "code",
   "execution_count": 27,
   "id": "40757c2e-6048-463b-8e7e-f5b4824705bd",
   "metadata": {
    "editable": true,
    "slideshow": {
     "slide_type": ""
    },
    "tags": []
   },
   "outputs": [
    {
     "data": {
      "text/plain": [
       "(128, 128)"
      ]
     },
     "execution_count": 27,
     "metadata": {},
     "output_type": "execute_result"
    }
   ],
   "source": [
    "all_images_rechunk[0].shape"
   ]
  },
  {
   "cell_type": "code",
   "execution_count": 34,
   "id": "902b0cc7-47cf-4d61-8213-561fcc1efde8",
   "metadata": {
    "editable": true,
    "slideshow": {
     "slide_type": ""
    },
    "tags": []
   },
   "outputs": [
    {
     "name": "stderr",
     "output_type": "stream",
     "text": [
      "100%|██████████| 1000/1000 [04:55<00:00,  3.38updates/s]\n"
     ]
    }
   ],
   "source": [
    "from tqdm import trange \n",
    "predictions=[]\n",
    "n_blocks = all_images_rechunk.numblocks[0]\n",
    "with trange(n_blocks, unit='updates') as progress_bar:\n",
    "    for x in all_images_rechunk.blocks:\n",
    "        prediction=classifier.predict_on_batch(x.compute())\n",
    "        predictions.append(prediction)\n",
    "        progress_bar.update(1)"
   ]
  },
  {
   "cell_type": "code",
   "execution_count": 41,
   "id": "b0243a13-4232-4b7c-b4ad-71c8623ff022",
   "metadata": {
    "editable": true,
    "slideshow": {
     "slide_type": ""
    },
    "tags": []
   },
   "outputs": [
    {
     "data": {
      "text/plain": [
       "array([[2.14079141e-14],\n",
       "       [2.18217984e-01],\n",
       "       [3.01064079e-04],\n",
       "       [2.43691936e-01],\n",
       "       [1.56216568e-03],\n",
       "       [9.81388152e-01],\n",
       "       [4.55766654e-04],\n",
       "       [7.06403000e-07],\n",
       "       [4.92813112e-03],\n",
       "       [1.71596440e-03],\n",
       "       [4.25738189e-03],\n",
       "       [5.88592421e-03],\n",
       "       [5.84774307e-06],\n",
       "       [1.10793963e-09],\n",
       "       [2.36987307e-05],\n",
       "       [9.74726770e-03],\n",
       "       [1.06975585e-01],\n",
       "       [1.57720468e-15],\n",
       "       [1.83453411e-02],\n",
       "       [6.71675254e-04]], dtype=float32)"
      ]
     },
     "execution_count": 41,
     "metadata": {},
     "output_type": "execute_result"
    }
   ],
   "source": [
    "predictions[0]"
   ]
  },
  {
   "attachments": {
    "71707f58-050c-402d-ae55-181c49924625.png": {
     "image/png": "[encoded data removed]"
    }
   },
   "cell_type": "markdown",
   "id": "b3484dbc-bf77-47b0-915d-7577060d54e3",
   "metadata": {
    "editable": true,
    "slideshow": {
     "slide_type": ""
    },
    "tags": []
   },
   "source": [
    "### Histogram of the responses\n",
    "🗹 If everything worked fine so far, you should be able to reproduce a plot similar to the one below by running the following code snippet.\n",
    "\n",
    "```python\n",
    "def plot_histogram(predictions):\n",
    "    \"\"\"Makes a histogram of the CNN predictions for the CYGNO-SIM acquired data\"\"\"\n",
    "    plt.hist(yhat, bins=np.linspace(0, 1, 51), label=\"CYGNO-SIM\")\n",
    "    plt.yscale('log')\n",
    "    plt.xlabel(\"Response of the CNN\")\n",
    "    plt.ylabel(\"Number of acquired events\")\n",
    "    plt.legend()\n",
    "    plt.show()\n",
    "\n",
    "plot_histogram(predictions)\n",
    "```\n",
    "\n",
    "![image.png](attachment:71707f58-050c-402d-ae55-181c49924625.png)"
   ]
  },
  {
   "cell_type": "code",
   "execution_count": 47,
   "id": "0542421e-6268-4bc1-b11b-7124fcc623c8",
   "metadata": {
    "editable": true,
    "slideshow": {
     "slide_type": ""
    },
    "tags": []
   },
   "outputs": [
    {
     "data": {
      "image/png": "[encoded data removed]",
      "text/plain": [
       "<Figure size 640x480 with 1 Axes>"
      ]
     },
     "metadata": {},
     "output_type": "display_data"
    }
   ],
   "source": [
    "def plot_histogram(predictions):\n",
    "    \"\"\"Makes a histogram of the CNN predictions for the CYGNO-SIM acquired data\"\"\"\n",
    "    parray = np.array(predictions)\n",
    "    plt.hist(parray.flatten(), bins=np.linspace(0, 1, 51), label=\"CYGNO-SIM\")\n",
    "    plt.yscale('log')\n",
    "    plt.xlabel(\"Response of the CNN\")\n",
    "    plt.ylabel(\"Number of acquired events\")\n",
    "    plt.legend()\n",
    "    plt.show()\n",
    "\n",
    "# Do it\n",
    "plot_histogram(predictions)"
   ]
  },
  {
   "cell_type": "markdown",
   "id": "1eef6f79-a912-4e16-91e4-72b134802bc4",
   "metadata": {},
   "source": [
    "## Studying the time dependence \n",
    "\n",
    "Tune the following code snippet to create the histogram of the counts that are more likely to be due to Nuclear Recoils.\n",
    "\n",
    "In case of an evidence for Dark Matter, you may expect a *seasonal* modulation. \n",
    "Since the SOSC cannot last one year, in our simulated DAQ, seasons change with a period of 8 minutes. ... \n",
    "\n",
    "*you know... there are no more mid-seasons... it's winter 5 minutes after it's summer...*\n",
    "\n",
    "\n",
    "```python\n",
    "def make_timestamp_histogram(\n",
    "    timestamps, \n",
    "    predictions,\n",
    "    threshold,\n",
    "    bin_width=1,\n",
    "):\n",
    "    \"\"\"\n",
    "    Creates a histogram of the selected events in hourly bins.\n",
    "\n",
    "    Arguments:\n",
    "     - timestamps:  dask array of type np.datetime64\n",
    "     - predictions: numpy array of the classifier response with the same \n",
    "                    shape as timestamps\n",
    "     - threshold:   float, threshold in range [0,1] defining the minimum\n",
    "                    classifier's response to select a candidate event as NR\n",
    "     - bin_width:   float, approximate dimension of a bin in hours, default: 0.1\n",
    "\n",
    "    Returns:\n",
    "     - a tuple of 1D arrays (time_in_hours, number_of_selected_events)\n",
    "    \"\"\"\n",
    "    ## Obtain the timestamps as a numpy array\n",
    "    np_tstamps = timestamps.compute()\n",
    "\n",
    "    ## Retrieve the first timestmp as \"START\"\n",
    "    t0 = np_tstamps[0]\n",
    "\n",
    "    ## Select only the timestamps associated to a positive response\n",
    "    ## of the CNN classifier\n",
    "    t = np_tstamps[predictions > threshold]\n",
    "\n",
    "    ## Convert the timestamp in a number of minutes since START\n",
    "    minutes_since_start = (t-t0)/np.timedelta64(1, 'm')\n",
    "\n",
    "    ## Compute the end of the time span as LATEST\n",
    "    tot_mins = minutes_since_start.max()\n",
    "\n",
    "    ## Compute the number of bins as the first integer exceeding \n",
    "    ## the total number of hours divided per the width of each bin\n",
    "    bins = int(np.ceil(tot_mins / bin_width))\n",
    "\n",
    "    ## Fill a histogram of \"hours since start\"\n",
    "    n_selected_events, boundaries = np.histogram(minutes_since_start, bins=bins)\n",
    "\n",
    "    ## Given the boundaries obtained from the histogram, compute the \n",
    "    ## center of each bin\n",
    "    time_in_minutes = 0.5 * (boundaries[1:] + boundaries[:-1])\n",
    "\n",
    "    ## Return the tuple with the center of the bin and the number of selected\n",
    "    ## events falling in that bin\n",
    "    return time_in_minutes, n_selected_events\n",
    "\n",
    "##############\n",
    "## Retrieve the histogram of counts for events more likely to be due to \n",
    "## nuclear recoil\n",
    "t, counts = make_timestamp_histogram(tstamps, predictions, 0.9)\n",
    "\n",
    "## Assuming Poissonian distribution of the contents, assess the uncertainty \n",
    "## on the counts\n",
    "error = np.sqrt(counts)\n",
    "\n",
    "## Plot the histogram\n",
    "plt.figure(figsize=(12,3))\n",
    "plt.xlabel(\"Time [m]\")\n",
    "plt.ylabel(\"Selected events\")\n",
    "plt.errorbar (t, counts, error, fmt='ko')\n",
    "```\n"
   ]
  },
  {
   "cell_type": "code",
   "execution_count": 53,
   "id": "616995cb-16d4-499b-8ee2-fcbffe300d02",
   "metadata": {},
   "outputs": [
    {
     "data": {
      "image/png": "[encoded data removed]",
      "text/plain": [
       "<Figure size 1200x300 with 1 Axes>"
      ]
     },
     "metadata": {},
     "output_type": "display_data"
    }
   ],
   "source": [
    "def make_timestamp_histogram(timestamps,predictions,threshold,bin_width=1):\n",
    "    \n",
    "    \"\"\"\n",
    "    Creates a histogram of the selected events in hourly bins.\n",
    "\n",
    "    Arguments:\n",
    "     - timestamps:  dask array of type np.datetime64\n",
    "     - predictions: numpy array of the classifier response with the same \n",
    "                    shape as timestamps\n",
    "     - threshold:   float, threshold in range [0,1] defining the minimum\n",
    "                    classifier's response to select a candidate event as NR\n",
    "     - bin_width:   float, approximate dimension of a bin in hours, default: 0.1\n",
    "\n",
    "    Returns:\n",
    "     - a tuple of 1D arrays (time_in_hours, number_of_selected_events)\n",
    "    \"\"\"\n",
    "    ## Obtain the timestamps as a numpy array\n",
    "    np_tstamps = timestamps.compute()\n",
    "\n",
    "    ## Retrieve the first timestmp as \"START\"\n",
    "    t0 = np_tstamps[0]\n",
    "\n",
    "    ## Select only the timestamps associated to a positive response\n",
    "    ## of the CNN classifier\n",
    "    t = np_tstamps[predictions > threshold]\n",
    "\n",
    "    ## Convert the timestamp in a number of minutes since START\n",
    "    minutes_since_start = (t-t0)/np.timedelta64(1, 'm')\n",
    "\n",
    "    ## Compute the end of the time span as LATEST\n",
    "    tot_mins = minutes_since_start.max()\n",
    "\n",
    "    ## Compute the number of bins as the first integer exceeding \n",
    "    ## the total number of hours divided per the width of each bin\n",
    "    bins = int(np.ceil(tot_mins / bin_width))\n",
    "\n",
    "    ## Fill a histogram of \"hours since start\"\n",
    "    n_selected_events, boundaries = np.histogram(minutes_since_start, bins=bins)\n",
    "\n",
    "    ## Given the boundaries obtained from the histogram, compute the \n",
    "    ## center of each bin\n",
    "    time_in_minutes = 0.5 * (boundaries[1:] + boundaries[:-1])\n",
    "\n",
    "    ## Return the tuple with the center of the bin and the number of selected\n",
    "    ## events falling in that bin\n",
    "    return time_in_minutes, n_selected_events\n",
    "\n",
    "#Do it\n",
    "\n",
    "## Retrieve the histogram of counts for events more likely to be due to \n",
    "## nuclear recoil\n",
    "t, counts = make_timestamp_histogram(all_tstamps, np.array(predictions).flatten(), 0.9)\n",
    "\n",
    "## Assuming Poissonian distribution of the contents, assess the uncertainty \n",
    "## on the counts\n",
    "error = np.sqrt(counts)\n",
    "\n",
    "## Plot the histogram\n",
    "plt.figure(figsize=(12,3))\n",
    "plt.xlabel(\"Time [m]\")\n",
    "plt.ylabel(\"Selected events\")\n",
    "plt.errorbar (t, counts, error, fmt='ko')\n",
    "\n",
    "plt.show()"
   ]
  },
  {
   "cell_type": "markdown",
   "id": "a933603a-e1ed-4514-9deb-e58ea75d88da",
   "metadata": {},
   "source": [
    "## Build a statistical model for the seasonal oscillation\n",
    "\n",
    "What we expect is a seasonal modulation of the event count due to a dark matter wind. \n",
    "\n",
    "Mathematically, we can describe the rate of observed and selected events as:\n",
    "$$\n",
    "\\frac{dN_{NR}}{dt} = b + s\\left[1 + \\sin\\left(\\frac{2\\pi}{T}t + \\varphi\\right)\\right]\n",
    "$$\n",
    "where:\n",
    " - $b$ is the rate of *background events* which is not subject to a seasonal oscillation, it may be due to misidentified *Electron Recoils* or to physics background resulting in nuclear recoils;\n",
    " - $s$ is the amplitude of the modulation, or the maximal event rate due to DM interaction during the seasonal modulation;\n",
    " - $T$ is the period of the seasonal modulation;\n",
    " - $\\varphi$ is the phase of the seasonal modulation.\n",
    "\n",
    "Given the histogram described in the previous cells, one can make reasonable assumptions on the vale of $s$ and $b$, \n",
    "$$\n",
    "b \\approx \\min_i \\left.\\frac{dN_{NR}}{dt}\\right|_i\n",
    "\\qquad\n",
    "\\mbox{and}\n",
    "\\qquad\n",
    "s \\approx \\frac{1}{2}\\left[ \\max_i \\left.\\frac{dN_{NR}}{dt}\\right|_i - b\\right]\n",
    "$$\n",
    "\n",
    "while for the period of the modulation we rely on our *astromagical* model that says we expect cycles of 3 hours.\n",
    "$$\n",
    "T \\approx 3\\,\\mathrm{h}\n",
    "$$\n",
    "In a real experiment we would also have an expectation for the phase, here we are referring time to an arbitrary START, so the phase is also arbitrary.\n",
    "\n",
    "\n",
    "### Implement the statistical model in TensorFlow\n",
    "Below you can find an implementation of the model in TensorFlow.\n",
    "\n",
    "```python\n",
    "## Global variables defining the free parameters of the model\n",
    "b = tf.Variable(float(np.min(contents)))\n",
    "s = tf.Variable(float(np.max(contents) - np.min(contents))/2)\n",
    "T = tf.Variable(8.)\n",
    "phi = tf.Variable(1.2)\n",
    "\n",
    "def fitfun(x):\n",
    "    \"\"\"Statistical model\"\"\"\n",
    "    return b + s * (1 + tf.sin(2*np.pi * x/T + phi))\n",
    "```\n",
    "\n",
    "### Define a loss function and minimizing it\n",
    "Since we have an uncertainty associated to each data point, we can use a $\\chi^2$ as a custom loss.\n",
    "\n",
    "$$\n",
    "\\chi^2 = \\sum_k \\frac{(O_k - E_k(b, s, T, \\varphi))^2}{O_k}\n",
    "$$\n",
    "where $O_k$ represents the number of entries observed in the $k$-th bin and $E_k$ the expectation according to the model.\n",
    "\n",
    "In TensorFlow, \n",
    "```python\n",
    "def chi2():\n",
    "    \"\"\"Custom loss for least-squared method\"\"\"\n",
    "    return tf.reduce_sum((counts - fitfun(t))**2 / counts)\n",
    "```\n",
    "\n",
    "### Optimize the custom loss\n",
    "\n",
    "Finally, define an optimizer, its learning rate and a number of iterations.\n",
    "\n",
    "```python\n",
    "learning_rate = <your_learning rate>\n",
    "optimizer = tf.keras.optimizers.Adam(learning_rate)\n",
    "\n",
    "losses = []\n",
    "for epoch in range(<number_of_iterations>):\n",
    "    optimizer.minimize(chi2, var_list=[b, s, T, phi])\n",
    "    losses.append (chi2().numpy())\n",
    "```\n",
    "\n",
    "Plotting the evolution of the loss might be of major help in defining the values for the learning rate and the number of iterations."
   ]
  },
  {
   "cell_type": "code",
   "execution_count": 73,
   "id": "57edab08-7427-4459-8aea-6d2b69dc9a19",
   "metadata": {
    "editable": true,
    "slideshow": {
     "slide_type": ""
    },
    "tags": []
   },
   "outputs": [
    {
     "data": {
      "text/plain": [
       "[<matplotlib.lines.Line2D at 0x7fbd34781ea0>]"
      ]
     },
     "execution_count": 73,
     "metadata": {},
     "output_type": "execute_result"
    },
    {
     "data": {
      "image/png": "[encoded data removed]",
      "text/plain": [
       "<Figure size 640x480 with 1 Axes>"
      ]
     },
     "metadata": {},
     "output_type": "display_data"
    }
   ],
   "source": [
    "contents=counts\n",
    "\n",
    "## Global variables defining the free parameters of the model\n",
    "b = tf.Variable(float(np.min(contents)))\n",
    "s = tf.Variable(float(np.max(contents) - np.min(contents))/2)\n",
    "T = tf.Variable(8.)\n",
    "phi = tf.Variable(1.2)\n",
    "\n",
    "def fitfun(x):\n",
    "    \"\"\"Statistical model\"\"\"\n",
    "    return b + s * (1 + tf.sin(2*np.pi * x/T + phi))\n",
    "\n",
    "def chi2():\n",
    "    \"\"\"Custom loss for least-squared method\"\"\"\n",
    "    return tf.reduce_sum((counts - fitfun(t))**2 / counts)\n",
    "\n",
    "learning_rate = 0.01\n",
    "optimizer = tf.keras.optimizers.Adam(learning_rate)\n",
    "\n",
    "losses = []\n",
    "epochs = []\n",
    "for epoch in range(1000):\n",
    "    optimizer.minimize(chi2, var_list=[b, s, T, phi])\n",
    "    losses.append(chi2().numpy())\n",
    "    epochs.append(epoch)\n",
    "\n",
    "plt.plot(epochs, losses, label='Siamo quasi alla fine')"
   ]
  },
  {
   "cell_type": "markdown",
   "id": "fcd82564-3dbc-4468-9c99-ced0ffd79c56",
   "metadata": {
    "editable": true,
    "slideshow": {
     "slide_type": ""
    },
    "tags": []
   },
   "source": [
    "## Draw the \"final plot\" \n",
    "\n",
    "Finally, you can produce the plot comparing hte fitted model to the observed data rate, by tuning the following snippet of code.\n",
    "\n",
    "```python\n",
    "## Plot the histogram\n",
    "plt.figure(figsize=(12,3))\n",
    "plt.xlabel(\"Time [m]\")\n",
    "plt.ylabel(\"Selected events\")\n",
    "plt.errorbar (t, counts, np.sqrt(contents), fmt='ko')\n",
    "## Superpose the fitted model\n",
    "plt.plot(t, fitfun(t), label=\"Fitted model\", linewidth=3, color='red', zorder=10)\n",
    "plt.legend()\n",
    "plt.show()\n",
    "```"
   ]
  },
  {
   "cell_type": "code",
   "execution_count": 74,
   "id": "ed7af7aa-31ed-4076-8890-6278b261d6a6",
   "metadata": {},
   "outputs": [
    {
     "data": {
      "image/png": "[encoded data removed]",
      "text/plain": [
       "<Figure size 1200x300 with 1 Axes>"
      ]
     },
     "metadata": {},
     "output_type": "display_data"
    }
   ],
   "source": [
    "## Plot the histogram\n",
    "plt.figure(figsize=(12,3))\n",
    "plt.xlabel(\"Time [m]\")\n",
    "plt.ylabel(\"Selected events\")\n",
    "plt.errorbar (t, counts, np.sqrt(contents), fmt='ko')\n",
    "## Superpose the fitted model\n",
    "plt.plot(t, fitfun(t), label=\"Fitted model\", linewidth=3, color='red', zorder=10)\n",
    "plt.legend()\n",
    "plt.show()"
   ]
  },
  {
   "cell_type": "markdown",
   "id": "6488e266-3930-4ee2-bcad-1e2500cc52a4",
   "metadata": {
    "editable": true,
    "slideshow": {
     "slide_type": ""
    },
    "tags": []
   },
   "source": [
    "## Conclusion\n",
    "\n",
    "In this notebook we have deployed a model stored on Minio and we fed it with the preprocessed data that your pipeline based on NATS has automatically uploaded to storage. \n",
    "\n",
    "Then we have analysed the data by performing a simple (probably simplistic) least-squared fit that enable to measure of the signal-to-background rate of our experiment.\n",
    "\n",
    "Where to go from here?\n",
    " - You might try to replace the preprocessing step with a dask pipeline reading directly from the DAQ bucket;\n",
    " - Tomorrow you will learn how to insert a notebook in a MLFlow pipeline to keep updating the result as new data are acquired (for example for monitoring or real-time analysis purpose);\n",
    " - You can explore different thresholds and different models to explore enhance your DM signature."
   ]
  },
  {
   "cell_type": "markdown",
   "id": "85c764ef",
   "metadata": {},
   "source": []
  }
 ],
 "metadata": {
  "kernelspec": {
   "display_name": "Python 3 (ipykernel)",
   "language": "python",
   "name": "python3"
  },
  "language_info": {
   "codemirror_mode": {
    "name": "ipython",
    "version": 3
   },
   "file_extension": ".py",
   "mimetype": "text/x-python",
   "name": "python",
   "nbconvert_exporter": "python",
   "pygments_lexer": "ipython3",
   "version": "3.10.11"
  }
 },
 "nbformat": 4,
 "nbformat_minor": 5
}

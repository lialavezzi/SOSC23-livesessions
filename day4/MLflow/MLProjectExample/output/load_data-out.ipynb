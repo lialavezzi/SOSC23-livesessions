{
 "cells": [
  {
   "cell_type": "code",
   "execution_count": 1,
   "id": "37a63153-07cc-4be7-9371-75f5f4af86ac",
   "metadata": {
    "editable": true,
    "execution": {
     "iopub.execute_input": "2023-10-26T11:06:11.490513Z",
     "iopub.status.busy": "2023-10-26T11:06:11.489926Z",
     "iopub.status.idle": "2023-10-26T11:06:12.519659Z",
     "shell.execute_reply": "2023-10-26T11:06:12.518424Z"
    },
    "papermill": {
     "duration": 1.040049,
     "end_time": "2023-10-26T11:06:12.523381",
     "exception": false,
     "start_time": "2023-10-26T11:06:11.483332",
     "status": "completed"
    },
    "slideshow": {
     "slide_type": ""
    },
    "tags": []
   },
   "outputs": [],
   "source": [
    "from urllib.request import urlretrieve\n",
    "import mlflow\n",
    "import os"
   ]
  },
  {
   "cell_type": "code",
   "execution_count": 2,
   "id": "daa88a9e-8756-4f43-b2ca-d8ddc18fa885",
   "metadata": {
    "editable": true,
    "execution": {
     "iopub.execute_input": "2023-10-26T11:06:12.586067Z",
     "iopub.status.busy": "2023-10-26T11:06:12.585663Z",
     "iopub.status.idle": "2023-10-26T11:06:12.590893Z",
     "shell.execute_reply": "2023-10-26T11:06:12.589689Z"
    },
    "papermill": {
     "duration": 0.066696,
     "end_time": "2023-10-26T11:06:12.594166",
     "exception": false,
     "start_time": "2023-10-26T11:06:12.527470",
     "status": "completed"
    },
    "slideshow": {
     "slide_type": ""
    },
    "tags": [
     "parameters"
    ]
   },
   "outputs": [],
   "source": [
    "# this is a parameter-tagged cell\n",
    "data_url = \"https://raw.githubusercontent.com/mlflow/mlflow/master/tests/datasets/winequality-red.csv\""
   ]
  },
  {
   "cell_type": "code",
   "execution_count": 3,
   "id": "cbcf0474",
   "metadata": {
    "execution": {
     "iopub.execute_input": "2023-10-26T11:06:12.855906Z",
     "iopub.status.busy": "2023-10-26T11:06:12.855444Z",
     "iopub.status.idle": "2023-10-26T11:06:12.861322Z",
     "shell.execute_reply": "2023-10-26T11:06:12.860021Z"
    },
    "papermill": {
     "duration": 0.015795,
     "end_time": "2023-10-26T11:06:12.864694",
     "exception": false,
     "start_time": "2023-10-26T11:06:12.848899",
     "status": "completed"
    },
    "tags": [
     "injected-parameters"
    ]
   },
   "outputs": [],
   "source": [
    "# Parameters\n",
    "data_url = \"https://raw.githubusercontent.com/mlflow/mlflow/master/tests/datasets/winequality-red.csv\"\n"
   ]
  },
  {
   "cell_type": "code",
   "execution_count": 4,
   "id": "68422001-113f-4c0b-b4dc-e9047ac55122",
   "metadata": {
    "editable": true,
    "execution": {
     "iopub.execute_input": "2023-10-26T11:06:13.010812Z",
     "iopub.status.busy": "2023-10-26T11:06:13.010398Z",
     "iopub.status.idle": "2023-10-26T11:06:13.224647Z",
     "shell.execute_reply": "2023-10-26T11:06:13.222947Z"
    },
    "papermill": {
     "duration": 0.360541,
     "end_time": "2023-10-26T11:06:13.228624",
     "exception": false,
     "start_time": "2023-10-26T11:06:12.868083",
     "status": "completed"
    },
    "slideshow": {
     "slide_type": ""
    },
    "tags": []
   },
   "outputs": [
    {
     "data": {
      "text/plain": [
       "('dataset.csv', <http.client.HTTPMessage at 0x7fa6458cfb20>)"
      ]
     },
     "execution_count": 4,
     "metadata": {},
     "output_type": "execute_result"
    }
   ],
   "source": [
    "csv_path = \"dataset.csv\"\n",
    "urlretrieve(data_url, csv_path)"
   ]
  },
  {
   "cell_type": "code",
   "execution_count": 5,
   "id": "80f22c27-2130-48d7-b4f6-2a90584a7abb",
   "metadata": {
    "editable": true,
    "execution": {
     "iopub.execute_input": "2023-10-26T11:06:13.241531Z",
     "iopub.status.busy": "2023-10-26T11:06:13.240950Z",
     "iopub.status.idle": "2023-10-26T11:06:13.581493Z",
     "shell.execute_reply": "2023-10-26T11:06:13.579510Z"
    },
    "papermill": {
     "duration": 0.351946,
     "end_time": "2023-10-26T11:06:13.585093",
     "exception": false,
     "start_time": "2023-10-26T11:06:13.233147",
     "status": "completed"
    },
    "slideshow": {
     "slide_type": ""
    },
    "tags": []
   },
   "outputs": [
    {
     "name": "stderr",
     "output_type": "stream",
     "text": [
      "/opt/conda/lib/python3.10/site-packages/urllib3/connectionpool.py:1095: InsecureRequestWarning: Unverified HTTPS request is being made to host 'lia-2elavezzi-mlflow.131.154.99.220.myip.cloud.infn.it'. Adding certificate verification is strongly advised. See: https://urllib3.readthedocs.io/en/latest/advanced-usage.html#tls-warnings\n",
      "  warnings.warn(\n",
      "/opt/conda/lib/python3.10/site-packages/urllib3/connectionpool.py:1095: InsecureRequestWarning: Unverified HTTPS request is being made to host 'lia-2elavezzi-mlflow.131.154.99.220.myip.cloud.infn.it'. Adding certificate verification is strongly advised. See: https://urllib3.readthedocs.io/en/latest/advanced-usage.html#tls-warnings\n",
      "  warnings.warn(\n",
      "/opt/conda/lib/python3.10/site-packages/urllib3/connectionpool.py:1095: InsecureRequestWarning: Unverified HTTPS request is being made to host 'lia-2elavezzi-mlflow.131.154.99.220.myip.cloud.infn.it'. Adding certificate verification is strongly advised. See: https://urllib3.readthedocs.io/en/latest/advanced-usage.html#tls-warnings\n",
      "  warnings.warn(\n",
      "/opt/conda/lib/python3.10/site-packages/urllib3/connectionpool.py:1095: InsecureRequestWarning: Unverified HTTPS request is being made to host 'lia-2elavezzi-mlflow.131.154.99.220.myip.cloud.infn.it'. Adding certificate verification is strongly advised. See: https://urllib3.readthedocs.io/en/latest/advanced-usage.html#tls-warnings\n",
      "  warnings.warn(\n",
      "/opt/conda/lib/python3.10/site-packages/urllib3/connectionpool.py:1095: InsecureRequestWarning: Unverified HTTPS request is being made to host 'lia-2elavezzi-mlflow.131.154.99.220.myip.cloud.infn.it'. Adding certificate verification is strongly advised. See: https://urllib3.readthedocs.io/en/latest/advanced-usage.html#tls-warnings\n",
      "  warnings.warn(\n",
      "/opt/conda/lib/python3.10/site-packages/urllib3/connectionpool.py:1095: InsecureRequestWarning: Unverified HTTPS request is being made to host 'lia-2elavezzi-mlflow.131.154.99.220.myip.cloud.infn.it'. Adding certificate verification is strongly advised. See: https://urllib3.readthedocs.io/en/latest/advanced-usage.html#tls-warnings\n",
      "  warnings.warn(\n"
     ]
    },
    {
     "name": "stderr",
     "output_type": "stream",
     "text": [
      "/opt/conda/lib/python3.10/site-packages/urllib3/connectionpool.py:1095: InsecureRequestWarning: Unverified HTTPS request is being made to host 'lia-2elavezzi-mlflow.131.154.99.220.myip.cloud.infn.it'. Adding certificate verification is strongly advised. See: https://urllib3.readthedocs.io/en/latest/advanced-usage.html#tls-warnings\n",
      "  warnings.warn(\n"
     ]
    }
   ],
   "source": [
    "with mlflow.start_run(tags={\"mlflow.runName\": \"Download\"}) as mlrun:\n",
    "    mlflow.log_artifact(csv_path)"
   ]
  }
 ],
 "metadata": {
  "kernelspec": {
   "display_name": "Python 3 (ipykernel)",
   "language": "python",
   "name": "python3"
  },
  "language_info": {
   "codemirror_mode": {
    "name": "ipython",
    "version": 3
   },
   "file_extension": ".py",
   "mimetype": "text/x-python",
   "name": "python",
   "nbconvert_exporter": "python",
   "pygments_lexer": "ipython3",
   "version": "3.10.11"
  },
  "papermill": {
   "default_parameters": {},
   "duration": 3.957943,
   "end_time": "2023-10-26T11:06:14.013745",
   "environment_variables": {},
   "exception": null,
   "input_path": "load_data.ipynb",
   "output_path": "output/load_data-out.ipynb",
   "parameters": {
    "data_url": "https://raw.githubusercontent.com/mlflow/mlflow/master/tests/datasets/winequality-red.csv"
   },
   "start_time": "2023-10-26T11:06:10.055802",
   "version": "2.4.0"
  }
 },
 "nbformat": 4,
 "nbformat_minor": 5
}
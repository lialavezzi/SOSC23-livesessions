{
 "cells": [
  {
   "cell_type": "code",
   "execution_count": null,
   "id": "37a63153-07cc-4be7-9371-75f5f4af86ac",
   "metadata": {
    "editable": true,
    "slideshow": {
     "slide_type": ""
    },
    "tags": []
   },
   "outputs": [],
   "source": [
    "import numpy as np\n",
    "import pandas as pd\n",
    "from sklearn.model_selection import train_test_split\n",
    "import mlflow\n",
    "import os"
   ]
  },
  {
   "cell_type": "code",
   "execution_count": null,
   "id": "daa88a9e-8756-4f43-b2ca-d8ddc18fa885",
   "metadata": {
    "editable": true,
    "slideshow": {
     "slide_type": ""
    },
    "tags": [
     "parameters"
    ]
   },
   "outputs": [],
   "source": [
    "# this cell is tagged \"parameters\"\n",
    "random_seed = 40\n",
    "test_size = 0.25\n",
    "csv_path = \"dataset.csv\""
   ]
  },
  {
   "cell_type": "code",
   "execution_count": null,
   "id": "68422001-113f-4c0b-b4dc-e9047ac55122",
   "metadata": {
    "editable": true,
    "slideshow": {
     "slide_type": ""
    },
    "tags": []
   },
   "outputs": [],
   "source": [
    "with mlflow.start_run(tags={\"mlflow.runName\": \"Prepare\"}) as mlrun:\n",
    "        local_path = mlflow.artifacts.download_artifacts(artifact_uri=csv_path, dst_path=\"./downloads\")\n",
    "        data = pd.read_csv(local_path, sep=\";\")\n",
    "        \n",
    "        np.random.seed(random_seed)\n",
    "        \n",
    "        train, test = train_test_split(data, test_size=test_size)\n",
    "        \n",
    "        train_path = \"train.csv\"\n",
    "        test_path = \"test.csv\"\n",
    "        \n",
    "        train.to_csv(train_path, index=False)\n",
    "        test.to_csv(test_path, index=False)\n",
    "\n",
    "        mlflow.log_artifact(train_path)\n",
    "        mlflow.log_artifact(test_path)"
   ]
  }
 ],
 "metadata": {
  "kernelspec": {
   "display_name": "Python 3 (ipykernel)",
   "language": "python",
   "name": "python3"
  },
  "language_info": {
   "codemirror_mode": {
    "name": "ipython",
    "version": 3
   },
   "file_extension": ".py",
   "mimetype": "text/x-python",
   "name": "python",
   "nbconvert_exporter": "python",
   "pygments_lexer": "ipython3",
   "version": "3.10.11"
  }
 },
 "nbformat": 4,
 "nbformat_minor": 5
}

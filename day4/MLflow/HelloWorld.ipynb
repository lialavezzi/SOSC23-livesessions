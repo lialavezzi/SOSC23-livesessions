{
 "cells": [
  {
   "cell_type": "markdown",
   "id": "3aac359b-666d-42e3-b0ea-dabb69a8aeac",
   "metadata": {},
   "source": [
    "\n"
   ]
  },
  {
   "cell_type": "markdown",
   "id": "1080b309-d62d-46ac-85fd-aeb81ce5118e",
   "metadata": {},
   "source": [
    "# Hello World mlflow!\n",
    "\n",
    "In this short notebook we will simply test the functionality of mlflow Tracking. In particular, we will set mlflow to point to the already existing mlflow tracking server (`https://{username}-mlflow.131.154.99.220.myip.cloud.infn.it`) and we will create a dummy experiment and a dummy run, outputting some artifact. We could then check in the dashboard the outcome of the execution."
   ]
  },
  {
   "cell_type": "markdown",
   "id": "47e2cde6-336e-4e2b-a356-658d4792e42e",
   "metadata": {},
   "source": [
    "Let's import all the necessary libraries"
   ]
  },
  {
   "cell_type": "code",
   "execution_count": 1,
   "id": "3d4f8f63-d497-425b-b622-1690593ba814",
   "metadata": {},
   "outputs": [],
   "source": [
    "import mlflow\n",
    "import os\n",
    "from random import random, randint\n",
    "import warnings\n",
    "warnings.filterwarnings('ignore')"
   ]
  },
  {
   "cell_type": "markdown",
   "id": "7ef4affd-88cc-4106-a238-f53e33e721d0",
   "metadata": {},
   "source": [
    "Set up local mlflow to point to our mlflow tracking server by using `mlflow.set_tracking_uri()`, which connects to a tracking URI. You can also set the `MLFLOW_TRACKING_URI` environment variable to have MLflow find a URI from there. In both cases, the URI can either be a HTTP/HTTPS URI for a remote server, a database connection string, or a local path to log data to a directory. The URI defaults to mlruns."
   ]
  },
  {
   "cell_type": "code",
   "execution_count": 2,
   "id": "496a88f6-b32d-4b6a-a53b-b3b1df649e0d",
   "metadata": {},
   "outputs": [],
   "source": [
    "#username = os.environ['JUPYTERHUB_USER']\n",
    "username = \"lia-2elavezzi\"\n",
    "mlflow.set_tracking_uri(f'https://{username}-mlflow.131.154.99.220.myip.cloud.infn.it/')\n",
    "os.environ[\"MLFLOW_TRACKING_INSECURE_TLS\"] = \"true\""
   ]
  },
  {
   "cell_type": "code",
   "execution_count": 4,
   "id": "4b1d126a-16dd-4617-a8a5-52a8b868eb27",
   "metadata": {},
   "outputs": [
    {
     "data": {
      "text/plain": [
       "'https://lia-2elavezzi-mlflow.131.154.99.220.myip.cloud.infn.it/'"
      ]
     },
     "execution_count": 4,
     "metadata": {},
     "output_type": "execute_result"
    }
   ],
   "source": [
    "mlflow.get_tracking_uri()"
   ]
  },
  {
   "cell_type": "markdown",
   "id": "763720fe-303d-4042-bf17-08a1a55d7748",
   "metadata": {},
   "source": [
    "Let's define a function `run()` that creates an experiment named `helloWorld`, and registers a run called `First_Hello_world`, which logs some dummy metrics and a dummy parameters, and a dummy artifact. Note that we use the `set_experiment` function that sets an experiment as active. If the experiment does not exist, creates a new experiment. If you do not specify an experiment in `mlflow.start_run()`, new runs are launched under this experiment. `mlflow.start_run()` returns the currently active run (if one exists), or starts a new run and returns a `mlflow.ActiveRun` object usable as a context manager for the current run (if the argument `run_name` is not set within `mlflow.start_run()`, a unique run name will be generated for each run)."
   ]
  },
  {
   "cell_type": "code",
   "execution_count": 5,
   "id": "46ea6ec5-ae2c-4261-9cea-105e6427399d",
   "metadata": {},
   "outputs": [],
   "source": [
    "def run(run_name=\"\"):\n",
    "    mlflow.set_experiment(\"helloWorld\")\n",
    "    with mlflow.start_run(run_name='First_Hello_world') as r:\n",
    "        print(\"Running helloWorld.ipynb\")\n",
    "        print(\"Model run: \", r.info.run_uuid)\n",
    "        mlflow.log_param(\"param1\", randint(0, 100))\n",
    "        mlflow.log_metric(\"foo\", random())\n",
    "        mlflow.log_metric(\"foo1\", random() + 1)\n",
    "        mlflow.set_tag(\"run_origin\", \"jupyter_notebook\")\n",
    "        if not os.path.exists(\"outputs\"):\n",
    "            os.makedirs(\"outputs\")\n",
    "        with open(\"outputs/test.txt\", \"w\") as f:\n",
    "            f.write(\"hello world!\")\n",
    "        os.chmod(\"./outputs/test.txt\", 0o777)\n",
    "        mlflow.log_artifact(\"./outputs/test.txt\")"
   ]
  },
  {
   "cell_type": "markdown",
   "id": "67106f1c-cf2f-4869-b079-6140770d46df",
   "metadata": {},
   "source": [
    "Let's run this function"
   ]
  },
  {
   "cell_type": "code",
   "execution_count": 6,
   "id": "075d7537-8aaf-4c0f-adb0-a6db11b303a3",
   "metadata": {},
   "outputs": [
    {
     "name": "stderr",
     "output_type": "stream",
     "text": [
      "2023/10/26 10:22:11 INFO mlflow.tracking.fluent: Experiment with name 'helloWorld' does not exist. Creating a new experiment.\n"
     ]
    },
    {
     "name": "stdout",
     "output_type": "stream",
     "text": [
      "Running helloWorld.ipynb\n",
      "Model run:  877c32d9aab5402182ba9ba073a7509d\n"
     ]
    }
   ],
   "source": [
    "run()"
   ]
  },
  {
   "cell_type": "code",
   "execution_count": null,
   "id": "6906b456-800b-4af1-8b46-c5746aaccc3b",
   "metadata": {
    "editable": true,
    "slideshow": {
     "slide_type": ""
    },
    "tags": []
   },
   "outputs": [],
   "source": []
  }
 ],
 "metadata": {
  "kernelspec": {
   "display_name": "Python 3 (ipykernel)",
   "language": "python",
   "name": "python3"
  },
  "language_info": {
   "codemirror_mode": {
    "name": "ipython",
    "version": 3
   },
   "file_extension": ".py",
   "mimetype": "text/x-python",
   "name": "python",
   "nbconvert_exporter": "python",
   "pygments_lexer": "ipython3",
   "version": "3.10.11"
  }
 },
 "nbformat": 4,
 "nbformat_minor": 5
}

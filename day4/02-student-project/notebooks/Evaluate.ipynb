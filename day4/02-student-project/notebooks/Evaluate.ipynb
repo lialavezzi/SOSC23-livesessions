{
 "cells": [
  {
   "cell_type": "markdown",
   "id": "e8108b3b-f2e2-4f9a-a4b8-9aac023d5f68",
   "metadata": {
    "editable": true,
    "slideshow": {
     "slide_type": ""
    },
    "tags": []
   },
   "source": [
    "# Project - Day 4 - MLFlow evaluate and fit"
   ]
  },
  {
   "cell_type": "markdown",
   "id": "100da3d3-0b0f-4486-b0bf-b8e44bddd84e",
   "metadata": {
    "editable": true,
    "slideshow": {
     "slide_type": ""
    },
    "tags": []
   },
   "source": [
    "## Set parameters\n",
    "The cell below has been already tagged as `parameters`. So use it to include any papermill parameter you think it would be useful to change from at MLFlow runtime. (e.g. the location of models trained in the previous step)"
   ]
  },
  {
   "cell_type": "code",
   "execution_count": null,
   "id": "eba0d710-2084-45ac-9500-02ebbcf93377",
   "metadata": {
    "editable": true,
    "slideshow": {
     "slide_type": ""
    },
    "tags": [
     "parameters"
    ]
   },
   "outputs": [],
   "source": [
    "model_run_uri = \"dummy\""
   ]
  },
  {
   "cell_type": "markdown",
   "id": "013d7070-250e-431a-85e9-2f759548a188",
   "metadata": {
    "editable": true,
    "slideshow": {
     "slide_type": ""
    },
    "tags": []
   },
   "source": [
    "## Loading libraries, data and model\n",
    "\n",
    "### Loading libraries and model from MLFlow"
   ]
  },
  {
   "cell_type": "code",
   "execution_count": 1,
   "id": "cce2eb6c-defc-497b-8b38-714607840575",
   "metadata": {
    "editable": true,
    "slideshow": {
     "slide_type": ""
    },
    "tags": []
   },
   "outputs": [
    {
     "name": "stderr",
     "output_type": "stream",
     "text": [
      "2023-10-16 09:57:23.042088: I tensorflow/core/platform/cpu_feature_guard.cc:193] This TensorFlow binary is optimized with oneAPI Deep Neural Network Library (oneDNN) to use the following CPU instructions in performance-critical operations:  SSE4.1 SSE4.2 AVX AVX2 FMA\n",
      "To enable them in other operations, rebuild TensorFlow with the appropriate compiler flags.\n",
      "/opt/conda/lib/python3.10/site-packages/urllib3/connectionpool.py:1095: InsecureRequestWarning: Unverified HTTPS request is being made to host 'dciangot-mlflow.131.154.99.220.myip.cloud.infn.it'. Adding certificate verification is strongly advised. See: https://urllib3.readthedocs.io/en/latest/advanced-usage.html#tls-warnings\n",
      "  warnings.warn(\n"
     ]
    }
   ],
   "source": [
    "import warnings\n",
    "\n",
    "warnings.filterwarnings('ignore')\n",
    "## We will be using Numpy, Pyplot and Tensorflow as our scientific tool box\n",
    "import numpy as np \n",
    "import matplotlib.pyplot as plt\n",
    "import tensorflow as tf\n",
    "\n",
    "## BytesIO for defining in-memory file-like objects\n",
    "from io import BytesIO\n",
    "\n",
    "## Dask and in particular dask array for defining OOM pipelines\n",
    "import dask\n",
    "import dask.array as da\n",
    "\n",
    "## Progress bars\n",
    "from tqdm import tqdm\n",
    "\n",
    "import mlflow\n"
   ]
  },
  {
   "cell_type": "markdown",
   "id": "5ac14455-6a4b-4ada-8adc-ec01f91ffa82",
   "metadata": {
    "editable": true,
    "slideshow": {
     "slide_type": ""
    },
    "tags": []
   },
   "source": [
    "### Reproduce the final result plot based on the new model trained from the pipeline\n",
    "\n",
    "You should now be able to reproduce the steps of the Day-3 model deployment and adapt it to the MLFlow pipeline:\n",
    "\n",
    "- load the model from the artifact location of the previous step\n",
    "  - little help: `mlflow.artifacts.download_artifacts(artifact_uri=model_run_uri, dst_path=\"./models\")`\n",
    "- evaluate and fit the results, storing the plot as MLFlow artifacts\n",
    "- **required:** this task \"evaluate\" must produce an artifact in the form of an image!\n"
   ]
  },
  {
   "cell_type": "markdown",
   "id": "85c764ef",
   "metadata": {
    "editable": true,
    "slideshow": {
     "slide_type": ""
    },
    "tags": []
   },
   "source": []
  },
  {
   "cell_type": "code",
   "execution_count": null,
   "id": "3af61233-12ee-461a-9e9b-7bad3fdf778f",
   "metadata": {
    "editable": true,
    "slideshow": {
     "slide_type": ""
    },
    "tags": []
   },
   "outputs": [],
   "source": []
  }
 ],
 "metadata": {
  "kernelspec": {
   "display_name": "Python 3 (ipykernel)",
   "language": "python",
   "name": "python3"
  },
  "language_info": {
   "codemirror_mode": {
    "name": "ipython",
    "version": 3
   },
   "file_extension": ".py",
   "mimetype": "text/x-python",
   "name": "python",
   "nbconvert_exporter": "python",
   "pygments_lexer": "ipython3",
   "version": "3.10.11"
  }
 },
 "nbformat": 4,
 "nbformat_minor": 5
}

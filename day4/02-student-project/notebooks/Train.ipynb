{
 "cells": [
  {
   "cell_type": "markdown",
   "id": "5c035b93-4cab-4cb8-8519-ce8bdded0b04",
   "metadata": {
    "editable": true,
    "slideshow": {
     "slide_type": ""
    },
    "tags": []
   },
   "source": [
    "# Project - Day 4 - MLFlow training of your model"
   ]
  },
  {
   "cell_type": "markdown",
   "id": "3220ce18-54f3-4d9c-9ebf-7e4a828049e9",
   "metadata": {
    "editable": true,
    "slideshow": {
     "slide_type": ""
    },
    "tags": []
   },
   "source": [
    "## Insert MLFlow parameters\n",
    "The following cell is marked as `parameters`, you might find useful to include MLFlow usable parameters here for varying and experimenting different values for the CNN."
   ]
  },
  {
   "cell_type": "code",
   "execution_count": null,
   "id": "e130e26d-a266-43a1-bb1e-53990655e143",
   "metadata": {
    "editable": true,
    "slideshow": {
     "slide_type": ""
    },
    "tags": [
     "parameters"
    ]
   },
   "outputs": [],
   "source": [
    "#activation = \n",
    "#reg = "
   ]
  },
  {
   "cell_type": "markdown",
   "id": "4d7f8d7e-8c0f-494f-ab86-45526395081a",
   "metadata": {
    "editable": true,
    "slideshow": {
     "slide_type": ""
    },
    "tags": []
   },
   "source": [
    "## Excercise\n",
    "\n",
    "Based on the Training step of the project done on day 3:\n",
    "\n",
    "- train a model and store the metrics of the training process in MLFlow. e.g.:\n",
    "```python\n",
    "with mlflow.start_run(tags={\"mlflow.runName\": \"train\"}) as mlrun:\n",
    "\n",
    "    losses = []\n",
    "    val_losses = []\n",
    "    !pip install -q tqdm\n",
    "    from tqdm import trange\n",
    "    \n",
    "    n_epochs = 5\n",
    "    n_blocks = y_train.numblocks[0]\n",
    "    \n",
    "    for epoch in trange(n_epochs):\n",
    "        for X, y in zip(X_train.blocks, y_train.blocks):\n",
    "            losses.append(\n",
    "                (len(losses)/n_blocks, classifier.train_on_batch(X.compute(), y.compute()))\n",
    "            )\n",
    "        ls = classifier.test_on_batch(X_valid, y_valid)\n",
    "        val_losses.append(\n",
    "            (len(losses)/n_blocks,ls)\n",
    "            )\n",
    "        mlflow.log_metric(\"loss\", ls, step=int(len(losses)/n_blocks))\n",
    "\n",
    "```\n",
    "\n",
    "- store the model in MLFlow of the usage on the next step of the pipeline, e.g.:\n",
    "\n",
    "```python\n",
    "    classifier.save(\"classifier.keras\")\n",
    "    mlflow.log_artifact(\"classifier.keras\")\n",
    "    prds = classifier.predict(X_valid.compute())\n",
    "    signature = infer_signature(X_valid.compute(), prds)\n",
    "    mlflow.tensorflow.log_model(classifier, \"model\", registered_model_name=\"CYGNO_CNN\", signature=signature)\n",
    "```\n",
    "\n",
    "- you will have a task called \"train\" which logs the metrics\n",
    "  \n",
    "- **bonus:** store any additional plot that you find useful to track as a MLFlow artifact"
   ]
  },
  {
   "cell_type": "code",
   "execution_count": null,
   "id": "54865c4f-d946-4e85-9bd4-86f2dd22e668",
   "metadata": {
    "editable": true,
    "slideshow": {
     "slide_type": ""
    },
    "tags": []
   },
   "outputs": [],
   "source": [
    "import mlflow\n",
    "import os\n",
    "from random import random, randint\n",
    "import warnings\n",
    "warnings.filterwarnings('ignore')\n",
    "\n",
    "#username = os.environ['JUPYTERHUB_USER']\n",
    "username = \"lia-2elavezzi\"\n",
    "mlflow.set_tracking_uri(f'https://{username}-mlflow.131.154.99.220.myip.cloud.infn.it/')\n",
    "os.environ[\"MLFLOW_TRACKING_INSECURE_TLS\"] = \"true\"\n",
    "\n",
    "mlflow.get_tracking_uri()\n",
    "\n",
    "with mlflow.start_run(tags={\"mlflow.runName\": \"train\"}) as mlrun:\n",
    "\n",
    "    losses = []\n",
    "    val_losses = []\n",
    "    !pip install -q tqdm\n",
    "    from tqdm import trange\n",
    "    \n",
    "    n_epochs = 5\n",
    "    n_blocks = y_train.numblocks[0]\n",
    "    \n",
    "    for epoch in trange(n_epochs):\n",
    "        for X, y in zip(X_train.blocks, y_train.blocks):\n",
    "            losses.append(\n",
    "                (len(losses)/n_blocks, classifier.train_on_batch(X.compute(), y.compute()))\n",
    "            )\n",
    "        ls = classifier.test_on_batch(X_valid, y_valid)\n",
    "        val_losses.append(\n",
    "            (len(losses)/n_blocks,ls)\n",
    "            )\n",
    "        mlflow.log_metric(\"loss\", ls, step=int(len(losses)/n_blocks))\n",
    "\n",
    "classifier.save(\"classifier.keras\")\n",
    "mlflow.log_artifact(\"classifier.keras\")\n",
    "prds = classifier.predict(X_valid.compute())\n",
    "signature = infer_signature(X_valid.compute(), prds)\n",
    "mlflow.tensorflow.log_model(classifier, \"model\", registered_model_name=\"CYGNO_CNN\", signature=signature)"
   ]
  },
  {
   "cell_type": "code",
   "execution_count": null,
   "id": "4342d2c4-517a-4719-b78e-7157114ea81f",
   "metadata": {},
   "outputs": [],
   "source": []
  }
 ],
 "metadata": {
  "kernelspec": {
   "display_name": "Python 3 (ipykernel)",
   "language": "python",
   "name": "python3"
  },
  "language_info": {
   "codemirror_mode": {
    "name": "ipython",
    "version": 3
   },
   "file_extension": ".py",
   "mimetype": "text/x-python",
   "name": "python",
   "nbconvert_exporter": "python",
   "pygments_lexer": "ipython3",
   "version": "3.10.11"
  }
 },
 "nbformat": 4,
 "nbformat_minor": 5
}

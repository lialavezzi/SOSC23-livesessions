{
 "cells": [
  {
   "cell_type": "markdown",
   "metadata": {},
   "source": [
    "# Dask Bags\n",
    "\n",
    "\n",
    "Dask Bag implements operations like `map`, `filter`, `groupby` and aggregations on collections of Python objects. It does this in parallel and in small memory using Python iterators. It is similar to a parallel version of itertools or a Pythonic version of the PySpark RDD.\n",
    "\n",
    "Dask Bags are often used to do simple preprocessing on log files, JSON records, or other user defined Python objects.\n",
    "\n",
    "Full API documentation is available here: http://docs.dask.org/en/latest/bag-api.html"
   ]
  },
  {
   "cell_type": "markdown",
   "metadata": {},
   "source": [
    "## Create Random Data\n",
    "\n",
    "We create a random set of record data and store it to disk as many JSON files.  This will serve as our data for this notebook."
   ]
  },
  {
   "cell_type": "code",
   "execution_count": 1,
   "metadata": {},
   "outputs": [
    {
     "data": {
      "text/plain": [
       "['/home/jovyan/work/SOSC23-livesessions/day2/Dask/data/0.json',\n",
       " '/home/jovyan/work/SOSC23-livesessions/day2/Dask/data/1.json',\n",
       " '/home/jovyan/work/SOSC23-livesessions/day2/Dask/data/2.json',\n",
       " '/home/jovyan/work/SOSC23-livesessions/day2/Dask/data/3.json',\n",
       " '/home/jovyan/work/SOSC23-livesessions/day2/Dask/data/4.json',\n",
       " '/home/jovyan/work/SOSC23-livesessions/day2/Dask/data/5.json',\n",
       " '/home/jovyan/work/SOSC23-livesessions/day2/Dask/data/6.json',\n",
       " '/home/jovyan/work/SOSC23-livesessions/day2/Dask/data/7.json',\n",
       " '/home/jovyan/work/SOSC23-livesessions/day2/Dask/data/8.json',\n",
       " '/home/jovyan/work/SOSC23-livesessions/day2/Dask/data/9.json']"
      ]
     },
     "execution_count": 1,
     "metadata": {},
     "output_type": "execute_result"
    }
   ],
   "source": [
    "import dask\n",
    "import json\n",
    "import os\n",
    "\n",
    "os.makedirs('data', exist_ok=True)              # Create data/ directory\n",
    "\n",
    "b = dask.datasets.make_people()                 # Make records of people\n",
    "b.map(json.dumps).to_textfiles('data/*.json')   # Encode as JSON, write to disk"
   ]
  },
  {
   "cell_type": "markdown",
   "metadata": {},
   "source": [
    "## Read JSON data\n",
    "\n",
    "Now that we have some JSON data in a file lets take a look at it with Dask Bag and Python JSON module. Dask Bag can load data directly from text files using `db.read_text` (use `db.from_sequence` to create a bag from an existing Python iterable)"
   ]
  },
  {
   "cell_type": "code",
   "execution_count": 2,
   "metadata": {},
   "outputs": [
    {
     "name": "stdout",
     "output_type": "stream",
     "text": [
      "{\"age\": 43, \"name\": [\"Refugio\", \"Bailey\"], \"occupation\": \"Warehouseman\", \"telephone\": \"(782) 313-8330\", \"address\": {\"address\": \"877 Friendship Spur\", \"city\": \"Appleton\"}, \"credit-card\": {\"number\": \"2694 7084 9153 2441\", \"expiration-date\": \"03/24\"}}\n",
      "{\"age\": 31, \"name\": [\"Daryl\", \"Strickland\"], \"occupation\": \"Bricklayer\", \"telephone\": \"(886) 704-5628\", \"address\": {\"address\": \"1128 Jessie West Circle\", \"city\": \"SeaTac\"}, \"credit-card\": {\"number\": \"5550 5705 3841 9164\", \"expiration-date\": \"06/23\"}}\n"
     ]
    }
   ],
   "source": [
    "!head -n 2 data/0.json"
   ]
  },
  {
   "cell_type": "code",
   "execution_count": 3,
   "metadata": {},
   "outputs": [
    {
     "data": {
      "text/plain": [
       "dask.bag<loads, npartitions=10>"
      ]
     },
     "execution_count": 3,
     "metadata": {},
     "output_type": "execute_result"
    }
   ],
   "source": [
    "import dask.bag as db\n",
    "import json\n",
    "\n",
    "b = db.read_text('data/*.json').map(json.loads)\n",
    "b"
   ]
  },
  {
   "cell_type": "code",
   "execution_count": 4,
   "metadata": {},
   "outputs": [
    {
     "data": {
      "text/plain": [
       "({'age': 43,\n",
       "  'name': ['Refugio', 'Bailey'],\n",
       "  'occupation': 'Warehouseman',\n",
       "  'telephone': '(782) 313-8330',\n",
       "  'address': {'address': '877 Friendship Spur', 'city': 'Appleton'},\n",
       "  'credit-card': {'number': '2694 7084 9153 2441',\n",
       "   'expiration-date': '03/24'}},\n",
       " {'age': 31,\n",
       "  'name': ['Daryl', 'Strickland'],\n",
       "  'occupation': 'Bricklayer',\n",
       "  'telephone': '(886) 704-5628',\n",
       "  'address': {'address': '1128 Jessie West Circle', 'city': 'SeaTac'},\n",
       "  'credit-card': {'number': '5550 5705 3841 9164',\n",
       "   'expiration-date': '06/23'}})"
      ]
     },
     "execution_count": 4,
     "metadata": {},
     "output_type": "execute_result"
    }
   ],
   "source": [
    "b.take(2)"
   ]
  },
  {
   "cell_type": "markdown",
   "metadata": {},
   "source": [
    "## Map, Filter, Aggregate\n",
    "\n",
    "We can process this data by filtering out only certain records of interest, mapping functions over it to process our data, and aggregating those results to a total value."
   ]
  },
  {
   "cell_type": "code",
   "execution_count": 5,
   "metadata": {},
   "outputs": [
    {
     "data": {
      "text/plain": [
       "({'age': 43,\n",
       "  'name': ['Refugio', 'Bailey'],\n",
       "  'occupation': 'Warehouseman',\n",
       "  'telephone': '(782) 313-8330',\n",
       "  'address': {'address': '877 Friendship Spur', 'city': 'Appleton'},\n",
       "  'credit-card': {'number': '2694 7084 9153 2441',\n",
       "   'expiration-date': '03/24'}},\n",
       " {'age': 31,\n",
       "  'name': ['Daryl', 'Strickland'],\n",
       "  'occupation': 'Bricklayer',\n",
       "  'telephone': '(886) 704-5628',\n",
       "  'address': {'address': '1128 Jessie West Circle', 'city': 'SeaTac'},\n",
       "  'credit-card': {'number': '5550 5705 3841 9164',\n",
       "   'expiration-date': '06/23'}})"
      ]
     },
     "execution_count": 5,
     "metadata": {},
     "output_type": "execute_result"
    }
   ],
   "source": [
    "b.filter(lambda record: record['age'] > 30).take(2)  # Select only people over 30"
   ]
  },
  {
   "cell_type": "code",
   "execution_count": 6,
   "metadata": {},
   "outputs": [
    {
     "data": {
      "text/plain": [
       "('Warehouseman', 'Bricklayer')"
      ]
     },
     "execution_count": 6,
     "metadata": {},
     "output_type": "execute_result"
    }
   ],
   "source": [
    "b.map(lambda record: record['occupation']).take(2)  # Select the occupation field"
   ]
  },
  {
   "cell_type": "code",
   "execution_count": 7,
   "metadata": {},
   "outputs": [
    {
     "data": {
      "text/plain": [
       "10000"
      ]
     },
     "execution_count": 7,
     "metadata": {},
     "output_type": "execute_result"
    }
   ],
   "source": [
    "b.count().compute()  # Count total number of records"
   ]
  },
  {
   "cell_type": "markdown",
   "metadata": {},
   "source": [
    "## Chain computations\n",
    "\n",
    "It is common to do many of these steps in one pipeline, only calling `compute` or `take` at the end."
   ]
  },
  {
   "cell_type": "code",
   "execution_count": 8,
   "metadata": {},
   "outputs": [
    {
     "data": {
      "text/plain": [
       "dask.bag<topk-aggregate, npartitions=1>"
      ]
     },
     "execution_count": 8,
     "metadata": {},
     "output_type": "execute_result"
    }
   ],
   "source": [
    "result = (b.filter(lambda record: record['age'] > 30)\n",
    "           .map(lambda record: record['occupation'])\n",
    "           .frequencies(sort=True)\n",
    "           .topk(10, key=1))\n",
    "result"
   ]
  },
  {
   "cell_type": "markdown",
   "metadata": {},
   "source": [
    "As with all lazy Dask collections, we need to call `compute` to actually evaluate our result.  The `take` method used in earlier examples is also like `compute` and will also trigger computation."
   ]
  },
  {
   "cell_type": "code",
   "execution_count": 9,
   "metadata": {},
   "outputs": [
    {
     "data": {
      "text/plain": [
       "[('Professional Wrestler', 18),\n",
       " ('Body Fitter', 17),\n",
       " ('Train Driver', 15),\n",
       " ('Economist', 14),\n",
       " ('Wine Merchant', 14),\n",
       " ('Building Foreman', 13),\n",
       " ('Chaplain', 13),\n",
       " ('Licensed Premises', 13),\n",
       " ('Laminator', 13),\n",
       " ('Project Engineer', 13)]"
      ]
     },
     "execution_count": 9,
     "metadata": {},
     "output_type": "execute_result"
    }
   ],
   "source": [
    "result.compute()"
   ]
  },
  {
   "cell_type": "markdown",
   "metadata": {},
   "source": [
    "## Transform and Store\n",
    "\n",
    "Sometimes we want to compute aggregations as above, but sometimes we want to store results to disk for future analyses.  For that we can use methods like `to_textfiles` and `json.dumps`, or we can convert to Dask Dataframes and use their storage systems, which we'll see more of in the next section."
   ]
  },
  {
   "cell_type": "code",
   "execution_count": 12,
   "metadata": {},
   "outputs": [
    {
     "data": {
      "text/plain": [
       "['/home/jovyan/work/SOSC23-livesessions/day2/Dask/data/processed.0.json',\n",
       " '/home/jovyan/work/SOSC23-livesessions/day2/Dask/data/processed.1.json',\n",
       " '/home/jovyan/work/SOSC23-livesessions/day2/Dask/data/processed.2.json',\n",
       " '/home/jovyan/work/SOSC23-livesessions/day2/Dask/data/processed.3.json',\n",
       " '/home/jovyan/work/SOSC23-livesessions/day2/Dask/data/processed.4.json',\n",
       " '/home/jovyan/work/SOSC23-livesessions/day2/Dask/data/processed.5.json',\n",
       " '/home/jovyan/work/SOSC23-livesessions/day2/Dask/data/processed.6.json',\n",
       " '/home/jovyan/work/SOSC23-livesessions/day2/Dask/data/processed.7.json',\n",
       " '/home/jovyan/work/SOSC23-livesessions/day2/Dask/data/processed.8.json',\n",
       " '/home/jovyan/work/SOSC23-livesessions/day2/Dask/data/processed.9.json']"
      ]
     },
     "execution_count": 12,
     "metadata": {},
     "output_type": "execute_result"
    }
   ],
   "source": [
    "(b.filter(lambda record: record['age'] > 30)  # Select records of interest\n",
    "  .map(json.dumps)                            # Convert Python objects to text\n",
    "  .to_textfiles('data/processed.*.json'))     # Write to local disk"
   ]
  },
  {
   "cell_type": "markdown",
   "metadata": {},
   "source": [
    "## Convert to Dask Dataframes\n",
    "\n",
    "Dask Bags are good for reading in initial data, doing a bit of pre-processing, and then handing off to some other more efficient form like Dask Dataframes.  Dask Dataframes use Pandas internally, and so can be much faster on numeric data and also have more complex algorithms.  \n",
    "\n",
    "However, Dask Dataframes also expect data that is organized as flat columns.  It does not support nested JSON data very well (Bag is better for this).\n",
    "\n",
    "Here we make a function to flatten down our nested data structure, map that across our records, and then convert that to a Dask Dataframe."
   ]
  },
  {
   "cell_type": "code",
   "execution_count": 13,
   "metadata": {},
   "outputs": [
    {
     "data": {
      "text/plain": [
       "({'age': 43,\n",
       "  'name': ['Refugio', 'Bailey'],\n",
       "  'occupation': 'Warehouseman',\n",
       "  'telephone': '(782) 313-8330',\n",
       "  'address': {'address': '877 Friendship Spur', 'city': 'Appleton'},\n",
       "  'credit-card': {'number': '2694 7084 9153 2441',\n",
       "   'expiration-date': '03/24'}},)"
      ]
     },
     "execution_count": 13,
     "metadata": {},
     "output_type": "execute_result"
    }
   ],
   "source": [
    "b.take(1)"
   ]
  },
  {
   "cell_type": "code",
   "execution_count": 14,
   "metadata": {},
   "outputs": [
    {
     "data": {
      "text/plain": [
       "({'age': 43,\n",
       "  'occupation': 'Warehouseman',\n",
       "  'telephone': '(782) 313-8330',\n",
       "  'credit-card-number': '2694 7084 9153 2441',\n",
       "  'credit-card-expiration': '03/24',\n",
       "  'name': 'Refugio Bailey',\n",
       "  'street-address': '877 Friendship Spur',\n",
       "  'city': 'Appleton'},)"
      ]
     },
     "execution_count": 14,
     "metadata": {},
     "output_type": "execute_result"
    }
   ],
   "source": [
    "def flatten(record):\n",
    "    return {\n",
    "        'age': record['age'],\n",
    "        'occupation': record['occupation'],\n",
    "        'telephone': record['telephone'],\n",
    "        'credit-card-number': record['credit-card']['number'],\n",
    "        'credit-card-expiration': record['credit-card']['expiration-date'],\n",
    "        'name': ' '.join(record['name']),\n",
    "        'street-address': record['address']['address'],\n",
    "        'city': record['address']['city']   \n",
    "    }\n",
    "\n",
    "b.map(flatten).take(1)"
   ]
  },
  {
   "cell_type": "code",
   "execution_count": 15,
   "metadata": {},
   "outputs": [
    {
     "data": {
      "text/html": [
       "<div>\n",
       "<style scoped>\n",
       "    .dataframe tbody tr th:only-of-type {\n",
       "        vertical-align: middle;\n",
       "    }\n",
       "\n",
       "    .dataframe tbody tr th {\n",
       "        vertical-align: top;\n",
       "    }\n",
       "\n",
       "    .dataframe thead th {\n",
       "        text-align: right;\n",
       "    }\n",
       "</style>\n",
       "<table border=\"1\" class=\"dataframe\">\n",
       "  <thead>\n",
       "    <tr style=\"text-align: right;\">\n",
       "      <th></th>\n",
       "      <th>age</th>\n",
       "      <th>occupation</th>\n",
       "      <th>telephone</th>\n",
       "      <th>credit-card-number</th>\n",
       "      <th>credit-card-expiration</th>\n",
       "      <th>name</th>\n",
       "      <th>street-address</th>\n",
       "      <th>city</th>\n",
       "    </tr>\n",
       "  </thead>\n",
       "  <tbody>\n",
       "    <tr>\n",
       "      <th>0</th>\n",
       "      <td>43</td>\n",
       "      <td>Warehouseman</td>\n",
       "      <td>(782) 313-8330</td>\n",
       "      <td>2694 7084 9153 2441</td>\n",
       "      <td>03/24</td>\n",
       "      <td>Refugio Bailey</td>\n",
       "      <td>877 Friendship Spur</td>\n",
       "      <td>Appleton</td>\n",
       "    </tr>\n",
       "    <tr>\n",
       "      <th>1</th>\n",
       "      <td>31</td>\n",
       "      <td>Bricklayer</td>\n",
       "      <td>(886) 704-5628</td>\n",
       "      <td>5550 5705 3841 9164</td>\n",
       "      <td>06/23</td>\n",
       "      <td>Daryl Strickland</td>\n",
       "      <td>1128 Jessie West Circle</td>\n",
       "      <td>SeaTac</td>\n",
       "    </tr>\n",
       "    <tr>\n",
       "      <th>2</th>\n",
       "      <td>32</td>\n",
       "      <td>Milklady</td>\n",
       "      <td>163-232-0941</td>\n",
       "      <td>4664 1472 8163 9425</td>\n",
       "      <td>09/16</td>\n",
       "      <td>Spencer Bates</td>\n",
       "      <td>750 Grote Crossing</td>\n",
       "      <td>Harlingen</td>\n",
       "    </tr>\n",
       "    <tr>\n",
       "      <th>3</th>\n",
       "      <td>65</td>\n",
       "      <td>Economist</td>\n",
       "      <td>881.547.1361</td>\n",
       "      <td>3704 249531 54006</td>\n",
       "      <td>03/22</td>\n",
       "      <td>Johanne Fields</td>\n",
       "      <td>580 Diamond Trace</td>\n",
       "      <td>La Vergne</td>\n",
       "    </tr>\n",
       "    <tr>\n",
       "      <th>4</th>\n",
       "      <td>49</td>\n",
       "      <td>Word Processing Operator</td>\n",
       "      <td>503-941-3916</td>\n",
       "      <td>4187 7341 2369 1991</td>\n",
       "      <td>03/23</td>\n",
       "      <td>Lisabeth Spence</td>\n",
       "      <td>765 Lyon Spur</td>\n",
       "      <td>Agoura Hills</td>\n",
       "    </tr>\n",
       "  </tbody>\n",
       "</table>\n",
       "</div>"
      ],
      "text/plain": [
       "   age                occupation       telephone   credit-card-number  \\\n",
       "0   43              Warehouseman  (782) 313-8330  2694 7084 9153 2441   \n",
       "1   31                Bricklayer  (886) 704-5628  5550 5705 3841 9164   \n",
       "2   32                  Milklady    163-232-0941  4664 1472 8163 9425   \n",
       "3   65                 Economist    881.547.1361    3704 249531 54006   \n",
       "4   49  Word Processing Operator    503-941-3916  4187 7341 2369 1991   \n",
       "\n",
       "  credit-card-expiration              name           street-address  \\\n",
       "0                  03/24    Refugio Bailey      877 Friendship Spur   \n",
       "1                  06/23  Daryl Strickland  1128 Jessie West Circle   \n",
       "2                  09/16     Spencer Bates       750 Grote Crossing   \n",
       "3                  03/22    Johanne Fields        580 Diamond Trace   \n",
       "4                  03/23   Lisabeth Spence            765 Lyon Spur   \n",
       "\n",
       "           city  \n",
       "0      Appleton  \n",
       "1        SeaTac  \n",
       "2     Harlingen  \n",
       "3     La Vergne  \n",
       "4  Agoura Hills  "
      ]
     },
     "execution_count": 15,
     "metadata": {},
     "output_type": "execute_result"
    }
   ],
   "source": [
    "df = b.map(flatten).to_dataframe()\n",
    "df.head()"
   ]
  },
  {
   "cell_type": "markdown",
   "metadata": {},
   "source": [
    "We can now perform the same computation as before, but now using Pandas and Dask dataframe."
   ]
  },
  {
   "cell_type": "code",
   "execution_count": 16,
   "metadata": {},
   "outputs": [
    {
     "data": {
      "text/plain": [
       "occupation\n",
       "Professional Wrestler    18\n",
       "Body Fitter              17\n",
       "Train Driver             15\n",
       "Economist                14\n",
       "Wine Merchant            14\n",
       "Chaplain                 13\n",
       "Project Engineer         13\n",
       "Licensed Premises        13\n",
       "Building Foreman         13\n",
       "Laminator                13\n",
       "Name: count, dtype: int64"
      ]
     },
     "execution_count": 16,
     "metadata": {},
     "output_type": "execute_result"
    }
   ],
   "source": [
    "df[df.age > 30].occupation.value_counts().nlargest(10).compute()"
   ]
  },
  {
   "cell_type": "markdown",
   "metadata": {},
   "source": [
    "## Learn More\n",
    "\n",
    "You may be interested in the following links:\n",
    "\n",
    "-  [Dask Bag Documentation](https://docs.dask.org/en/latest/bag.html)\n",
    "-  [API Documentation](http://docs.dask.org/en/latest/bag-api.html)"
   ]
  },
  {
   "cell_type": "code",
   "execution_count": null,
   "metadata": {},
   "outputs": [],
   "source": []
  }
 ],
 "metadata": {
  "kernelspec": {
   "display_name": "Python 3 (ipykernel)",
   "language": "python",
   "name": "python3"
  },
  "language_info": {
   "codemirror_mode": {
    "name": "ipython",
    "version": 3
   },
   "file_extension": ".py",
   "mimetype": "text/x-python",
   "name": "python",
   "nbconvert_exporter": "python",
   "pygments_lexer": "ipython3",
   "version": "3.10.11"
  }
 },
 "nbformat": 4,
 "nbformat_minor": 4
}

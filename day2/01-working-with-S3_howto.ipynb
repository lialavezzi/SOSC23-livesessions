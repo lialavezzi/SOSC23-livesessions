{
 "cells": [
  {
   "attachments": {},
   "cell_type": "markdown",
   "id": "5f8b1602-f9d8-47c0-b7a3-17fcdd99600d",
   "metadata": {},
   "source": [
    "# Day 2 - Working with S3\n",
    "\n",
    "In this notebook we will use some S3 API to interact with [Minio](https://minio.io) a full-fledged service, based on *object storage* combining two protocols:\n",
    " * `s3://`, providing a multi-user service with per-user authentication for uploading and downloading files;\n",
    " * `http://`, providing a public service with per-operation authentication for uploading and downloading files.\n",
    "\n",
    "The `s3` protocol is an **open standard** for *object storage* that was first released by Amazon Web Services (AWS) in 2006.\n",
    "\n",
    "It provides a simple web interface that can be used to store and retrive any amount of data, at any time, from anywhere in the web.\n",
    "\n",
    "The `s3` protocol is a popular choice for storing and managing large amounts of unstructured data such as images, videos and log files. \n",
    "It offers a range of storage classes designed for different use cases, requiring a frequent access or relying on cold storage for archiving data at the lowest cost. \n",
    "\n",
    "Minio, and in general object storage, is organized in ***buckets***. \n",
    "A bucket is a logical container for stored objects. It is more a flat structure that stores objects and their metadata than a file inside a folder.\n",
    "Buckets are used to organize and manage objects in *object storage* systems.\n",
    "\n",
    "Buckets can be created as needed and associated to policies determining what actions users can perform on a bucket and on all the objects in the bucket.\n",
    "Example of policies include replication to other storage services (for disaster recovery) or lifecycle policies. \n",
    "\n",
    "In this notebook we will focus on the basics of S3, including bucket policies and metadata. \n"
   ]
  },
  {
   "cell_type": "markdown",
   "id": "3103a84f",
   "metadata": {},
   "source": [
    "## Accessing Minio console\n",
    "\n",
    "Go to `https://console.131.154.99.220.myip.cloud.infn.it/` and login with the user and passwords got from the following cell:"
   ]
  },
  {
   "cell_type": "code",
   "execution_count": 2,
   "id": "b429b37f",
   "metadata": {},
   "outputs": [
    {
     "name": "stdout",
     "output_type": "stream",
     "text": [
      "Username: lia-2elavezzi\n",
      "password: 957ba464403d7d86aa1e6d6b7c289da7\n"
     ]
    }
   ],
   "source": [
    "import hashlib\n",
    "import os\n",
    "#username = os.environ['JUPYTERHUB_USER']\n",
    "username='lia-2elavezzi'\n",
    "hash_object = hashlib.md5(f'{username}'.encode())\n",
    "password = hash_object.hexdigest()\n",
    "print(f\"Username: {username}\\npassword: {password}\")\n"
   ]
  },
  {
   "cell_type": "markdown",
   "id": "c90bdfb5-b471-43a7-ac25-786cead0546f",
   "metadata": {},
   "source": [
    "## Accessing *Minio* via `s3` in Python with the boto3 library\n",
    "\n",
    "The `boto3`  enables more complicated authorization patterns and enables developing applications which are independent of the object storage provider. In other words, if you develop your application with `boto3` you can transparently migrate from a self-hosted Minio server, to an AWS object storage solution. Enable the S3 client by running the cell.\n"
   ]
  },
  {
   "cell_type": "code",
   "execution_count": 3,
   "id": "8055e6f0-8bcf-473a-937c-64fa3b26531c",
   "metadata": {},
   "outputs": [],
   "source": [
    "import boto3\n",
    "import json\n",
    "\n",
    "s3client = boto3.client('s3',\n",
    "    aws_access_key_id=username,\n",
    "    aws_secret_access_key=password,\n",
    "    endpoint_url=\"https://minio.131.154.99.220.myip.cloud.infn.it\",\n",
    "    region_name='default',)"
   ]
  },
  {
   "cell_type": "markdown",
   "id": "290b6dd9-f9d5-4608-a8e3-3575ae103776",
   "metadata": {},
   "source": [
    "Then you can list buckets"
   ]
  },
  {
   "cell_type": "code",
   "execution_count": 5,
   "id": "ad194bfa-6f6b-424f-aee7-365400d7d608",
   "metadata": {},
   "outputs": [
    {
     "name": "stdout",
     "output_type": "stream",
     "text": [
      "{'ResponseMetadata': {'RequestId': '179101F034B11CFE', 'HostId': 'dd9025bab4ad464b049177c95eb6ebf374d3b3fd1af9251148b658df7ac2e3e8', 'HTTPStatusCode': 200, 'HTTPHeaders': {'date': 'Tue, 24 Oct 2023 09:44:25 GMT', 'content-type': 'application/xml', 'content-length': '9259', 'connection': 'keep-alive', 'accept-ranges': 'bytes', 'strict-transport-security': 'max-age=15724800; includeSubDomains', 'vary': 'Origin, Accept-Encoding', 'x-amz-id-2': 'dd9025bab4ad464b049177c95eb6ebf374d3b3fd1af9251148b658df7ac2e3e8', 'x-amz-request-id': '179101F034B11CFE', 'x-content-type-options': 'nosniff', 'x-xss-protection': '1; mode=block'}, 'RetryAttempts': 0}, 'Buckets': [{'Name': 'acostantini', 'CreationDate': datetime.datetime(2023, 10, 23, 9, 8, 55, 341000, tzinfo=tzlocal())}, {'Name': 'adavanzo', 'CreationDate': datetime.datetime(2023, 10, 23, 13, 39, 10, 95000, tzinfo=tzlocal())}, {'Name': 'alba-2d2d2d2d2d2d2d2d2d2d2d2egonzalvez', 'CreationDate': datetime.datetime(2023, 10, 23, 14, 3, 21, 261000, tzinfo=tzlocal())}, {'Name': 'alba-2d2d2d2d2d2d2d2d2d2d2egonzalvez', 'CreationDate': datetime.datetime(2023, 10, 23, 13, 59, 53, 220000, tzinfo=tzlocal())}, {'Name': 'alba-2d2d2d2d2d2d2d2d2d2egonzalvez', 'CreationDate': datetime.datetime(2023, 10, 23, 13, 59, 4, 708000, tzinfo=tzlocal())}, {'Name': 'alba-2d2d2d2d2d2d2d2d2egonzalvez', 'CreationDate': datetime.datetime(2023, 10, 23, 13, 58, 2, 960000, tzinfo=tzlocal())}, {'Name': 'alba-2d2d2d2d2d2d2d2egonzalvez', 'CreationDate': datetime.datetime(2023, 10, 23, 13, 56, 58, 819000, tzinfo=tzlocal())}, {'Name': 'alba-2d2d2d2d2d2d2egonzalvez', 'CreationDate': datetime.datetime(2023, 10, 23, 13, 54, 54, 443000, tzinfo=tzlocal())}, {'Name': 'alba-2d2d2d2d2d2egonzalvez', 'CreationDate': datetime.datetime(2023, 10, 23, 13, 54, 3, 429000, tzinfo=tzlocal())}, {'Name': 'alba-2d2d2d2d2egonzalvez', 'CreationDate': datetime.datetime(2023, 10, 23, 13, 52, 52, 356000, tzinfo=tzlocal())}, {'Name': 'alba-2d2d2d2egonzalvez', 'CreationDate': datetime.datetime(2023, 10, 23, 13, 51, 46, 511000, tzinfo=tzlocal())}, {'Name': 'alba-2d2d2egonzalvez', 'CreationDate': datetime.datetime(2023, 10, 23, 13, 51, 0, 294000, tzinfo=tzlocal())}, {'Name': 'alba-2d2egonzalvez', 'CreationDate': datetime.datetime(2023, 10, 23, 13, 49, 31, 681000, tzinfo=tzlocal())}, {'Name': 'alba-2egonzalvez', 'CreationDate': datetime.datetime(2023, 10, 23, 13, 46, 27, 626000, tzinfo=tzlocal())}, {'Name': 'anderlinil', 'CreationDate': datetime.datetime(2023, 10, 16, 13, 14, 56, 830000, tzinfo=tzlocal())}, {'Name': 'andreaadelfio', 'CreationDate': datetime.datetime(2023, 10, 23, 13, 48, 49, 936000, tzinfo=tzlocal())}, {'Name': 'andreaespis', 'CreationDate': datetime.datetime(2023, 10, 23, 13, 54, 12, 184000, tzinfo=tzlocal())}, {'Name': 'annacalanca', 'CreationDate': datetime.datetime(2023, 10, 23, 13, 53, 35, 165000, tzinfo=tzlocal())}, {'Name': 'atroja', 'CreationDate': datetime.datetime(2023, 10, 23, 13, 46, 41, 255000, tzinfo=tzlocal())}, {'Name': 'augustotortora', 'CreationDate': datetime.datetime(2023, 10, 23, 13, 40, 1, 378000, tzinfo=tzlocal())}, {'Name': 'bianco95', 'CreationDate': datetime.datetime(2023, 10, 13, 15, 0, 11, 318000, tzinfo=tzlocal())}, {'Name': 'cmarcon-2d2d2d2d2d2d5fsosc', 'CreationDate': datetime.datetime(2023, 10, 23, 14, 0, 2, 470000, tzinfo=tzlocal())}, {'Name': 'cmarcon-2d2d2d2d2d5fsosc', 'CreationDate': datetime.datetime(2023, 10, 23, 13, 59, 16, 474000, tzinfo=tzlocal())}, {'Name': 'cmarcon-2d2d2d2d5fsosc', 'CreationDate': datetime.datetime(2023, 10, 23, 13, 58, 19, 158000, tzinfo=tzlocal())}, {'Name': 'cmarcon-2d2d2d5fsosc', 'CreationDate': datetime.datetime(2023, 10, 23, 13, 57, 24, 136000, tzinfo=tzlocal())}, {'Name': 'cmarcon-2d2d5fsosc', 'CreationDate': datetime.datetime(2023, 10, 23, 13, 56, 33, 555000, tzinfo=tzlocal())}, {'Name': 'cmarcon-2d5fsosc', 'CreationDate': datetime.datetime(2023, 10, 23, 13, 55, 9, 678000, tzinfo=tzlocal())}, {'Name': 'cmarcon-5fsosc', 'CreationDate': datetime.datetime(2023, 10, 23, 13, 53, 56, 342000, tzinfo=tzlocal())}, {'Name': 'dciangot', 'CreationDate': datetime.datetime(2023, 10, 9, 15, 8, 52, 187000, tzinfo=tzlocal())}, {'Name': 'dpelosi', 'CreationDate': datetime.datetime(2023, 10, 23, 13, 38, 24, 250000, tzinfo=tzlocal())}, {'Name': 'dranieri', 'CreationDate': datetime.datetime(2023, 10, 23, 13, 44, 47, 897000, tzinfo=tzlocal())}, {'Name': 'fdelcorso', 'CreationDate': datetime.datetime(2023, 10, 23, 13, 38, 0, 734000, tzinfo=tzlocal())}, {'Name': 'federicocorchia', 'CreationDate': datetime.datetime(2023, 10, 23, 13, 43, 56, 488000, tzinfo=tzlocal())}, {'Name': 'flizzi', 'CreationDate': datetime.datetime(2023, 10, 23, 13, 41, 50, 558000, tzinfo=tzlocal())}, {'Name': 'giacomo-2d2d2d2d2ecoran', 'CreationDate': datetime.datetime(2023, 10, 23, 13, 48, 44, 182000, tzinfo=tzlocal())}, {'Name': 'giacomo-2d2d2d2ecoran', 'CreationDate': datetime.datetime(2023, 10, 23, 13, 45, 29, 927000, tzinfo=tzlocal())}, {'Name': 'giacomo-2d2d2ecoran', 'CreationDate': datetime.datetime(2023, 10, 23, 13, 42, 23, 872000, tzinfo=tzlocal())}, {'Name': 'giacomo-2d2ecoran', 'CreationDate': datetime.datetime(2023, 10, 23, 13, 40, 47, 775000, tzinfo=tzlocal())}, {'Name': 'giacomo-2ecoran', 'CreationDate': datetime.datetime(2023, 10, 23, 13, 39, 38, 212000, tzinfo=tzlocal())}, {'Name': 'gianlucasabella', 'CreationDate': datetime.datetime(2023, 10, 23, 13, 53, 30, 472000, tzinfo=tzlocal())}, {'Name': 'giorgiodho', 'CreationDate': datetime.datetime(2023, 10, 23, 13, 48, 21, 648000, tzinfo=tzlocal())}, {'Name': 'gmalatesta', 'CreationDate': datetime.datetime(2023, 10, 23, 13, 45, 16, 827000, tzinfo=tzlocal())}, {'Name': 'gvino', 'CreationDate': datetime.datetime(2023, 10, 23, 13, 39, 4, 154000, tzinfo=tzlocal())}, {'Name': 'lia-2d2d2elavezzi', 'CreationDate': datetime.datetime(2023, 10, 23, 13, 48, 14, 526000, tzinfo=tzlocal())}, {'Name': 'lia-2d2elavezzi', 'CreationDate': datetime.datetime(2023, 10, 23, 13, 44, 5, 224000, tzinfo=tzlocal())}, {'Name': 'lia-2elavezzi', 'CreationDate': datetime.datetime(2023, 10, 23, 13, 41, 21, 220000, tzinfo=tzlocal())}, {'Name': 'lmagenta', 'CreationDate': datetime.datetime(2023, 10, 23, 13, 51, 41, 130000, tzinfo=tzlocal())}, {'Name': 'ltabarroni', 'CreationDate': datetime.datetime(2023, 10, 23, 14, 24, 57, 198000, tzinfo=tzlocal())}, {'Name': 'lucamancini', 'CreationDate': datetime.datetime(2023, 10, 23, 13, 41, 52, 642000, tzinfo=tzlocal())}, {'Name': 'marialisa-2d2d2d2d2d2d2d2d2ebrozzetti', 'CreationDate': datetime.datetime(2023, 10, 23, 14, 0, 3, 886000, tzinfo=tzlocal())}, {'Name': 'marialisa-2d2d2d2d2d2d2d2ebrozzetti', 'CreationDate': datetime.datetime(2023, 10, 23, 13, 59, 19, 229000, tzinfo=tzlocal())}, {'Name': 'marialisa-2d2d2d2d2d2d2ebrozzetti', 'CreationDate': datetime.datetime(2023, 10, 23, 13, 58, 15, 604000, tzinfo=tzlocal())}, {'Name': 'marialisa-2d2d2d2d2d2ebrozzetti', 'CreationDate': datetime.datetime(2023, 10, 23, 13, 57, 7, 405000, tzinfo=tzlocal())}, {'Name': 'marialisa-2d2d2d2d2ebrozzetti', 'CreationDate': datetime.datetime(2023, 10, 23, 13, 56, 7, 166000, tzinfo=tzlocal())}, {'Name': 'marialisa-2d2d2d2ebrozzetti', 'CreationDate': datetime.datetime(2023, 10, 23, 13, 54, 13, 437000, tzinfo=tzlocal())}, {'Name': 'marialisa-2d2d2ebrozzetti', 'CreationDate': datetime.datetime(2023, 10, 23, 13, 52, 56, 347000, tzinfo=tzlocal())}, {'Name': 'marialisa-2d2ebrozzetti', 'CreationDate': datetime.datetime(2023, 10, 23, 13, 51, 47, 608000, tzinfo=tzlocal())}, {'Name': 'marialisa-2ebrozzetti', 'CreationDate': datetime.datetime(2023, 10, 23, 13, 51, 8, 285000, tzinfo=tzlocal())}, {'Name': 'matpauranoo', 'CreationDate': datetime.datetime(2023, 10, 23, 13, 51, 6, 844000, tzinfo=tzlocal())}, {'Name': 'mmirko', 'CreationDate': datetime.datetime(2023, 10, 16, 16, 20, 46, 271000, tzinfo=tzlocal())}, {'Name': 'nutc22', 'CreationDate': datetime.datetime(2023, 10, 23, 13, 45, 50, 592000, tzinfo=tzlocal())}, {'Name': 'onofrioa', 'CreationDate': datetime.datetime(2023, 10, 23, 13, 40, 39, 553000, tzinfo=tzlocal())}, {'Name': 'petrinir', 'CreationDate': datetime.datetime(2023, 10, 23, 13, 46, 27, 922000, tzinfo=tzlocal())}, {'Name': 'roberto-2d2d2d2d2d2eperon', 'CreationDate': datetime.datetime(2023, 10, 23, 13, 59, 51, 445000, tzinfo=tzlocal())}, {'Name': 'roberto-2d2d2d2d2eperon', 'CreationDate': datetime.datetime(2023, 10, 23, 13, 58, 39, 876000, tzinfo=tzlocal())}, {'Name': 'roberto-2d2d2d2eperon', 'CreationDate': datetime.datetime(2023, 10, 23, 13, 57, 36, 927000, tzinfo=tzlocal())}, {'Name': 'roberto-2d2d2eperon', 'CreationDate': datetime.datetime(2023, 10, 23, 13, 56, 27, 333000, tzinfo=tzlocal())}, {'Name': 'roberto-2d2eperon', 'CreationDate': datetime.datetime(2023, 10, 23, 13, 55, 2, 131000, tzinfo=tzlocal())}, {'Name': 'roberto-2eperon', 'CreationDate': datetime.datetime(2023, 10, 23, 13, 53, 57, 498000, tzinfo=tzlocal())}, {'Name': 'sara-2d2d2d2d2d2d2d2d2d2d2d2d2d2egelsumini', 'CreationDate': datetime.datetime(2023, 10, 23, 13, 59, 52, 931000, tzinfo=tzlocal())}, {'Name': 'sara-2d2d2d2d2d2d2d2d2d2d2d2d2egelsumini', 'CreationDate': datetime.datetime(2023, 10, 23, 13, 58, 38, 85000, tzinfo=tzlocal())}, {'Name': 'sara-2d2d2d2d2d2d2d2d2d2d2d2egelsumini', 'CreationDate': datetime.datetime(2023, 10, 23, 13, 57, 27, 382000, tzinfo=tzlocal())}, {'Name': 'sara-2d2d2d2d2d2d2d2d2d2d2egelsumini', 'CreationDate': datetime.datetime(2023, 10, 23, 13, 56, 44, 713000, tzinfo=tzlocal())}, {'Name': 'sara-2d2d2d2d2d2d2d2d2d2egelsumini', 'CreationDate': datetime.datetime(2023, 10, 23, 13, 55, 51, 651000, tzinfo=tzlocal())}, {'Name': 'sara-2d2d2d2d2d2d2d2d2egelsumini', 'CreationDate': datetime.datetime(2023, 10, 23, 13, 54, 8, 475000, tzinfo=tzlocal())}, {'Name': 'sara-2d2d2d2d2d2d2d2egelsumini', 'CreationDate': datetime.datetime(2023, 10, 23, 13, 53, 11, 962000, tzinfo=tzlocal())}, {'Name': 'sara-2d2d2d2d2d2d2egelsumini', 'CreationDate': datetime.datetime(2023, 10, 23, 13, 52, 7, 215000, tzinfo=tzlocal())}, {'Name': 'sara-2d2d2d2d2d2egelsumini', 'CreationDate': datetime.datetime(2023, 10, 23, 13, 51, 31, 511000, tzinfo=tzlocal())}, {'Name': 'sara-2d2d2d2d2egelsumini', 'CreationDate': datetime.datetime(2023, 10, 23, 13, 49, 59, 785000, tzinfo=tzlocal())}, {'Name': 'sara-2d2d2d2egelsumini', 'CreationDate': datetime.datetime(2023, 10, 23, 13, 47, 33, 734000, tzinfo=tzlocal())}, {'Name': 'sara-2d2d2egelsumini', 'CreationDate': datetime.datetime(2023, 10, 23, 13, 41, 56, 581000, tzinfo=tzlocal())}, {'Name': 'sara-2d2egelsumini', 'CreationDate': datetime.datetime(2023, 10, 23, 13, 40, 39, 519000, tzinfo=tzlocal())}, {'Name': 'sara-2egelsumini', 'CreationDate': datetime.datetime(2023, 10, 23, 13, 39, 15, 813000, tzinfo=tzlocal())}, {'Name': 'spiga', 'CreationDate': datetime.datetime(2023, 10, 18, 8, 29, 2, 406000, tzinfo=tzlocal())}, {'Name': 'szotti', 'CreationDate': datetime.datetime(2023, 10, 23, 13, 45, 25, 266000, tzinfo=tzlocal())}, {'Name': 'ttedesch', 'CreationDate': datetime.datetime(2023, 10, 12, 14, 49, 32, 377000, tzinfo=tzlocal())}, {'Name': 'usamakhan', 'CreationDate': datetime.datetime(2023, 10, 23, 13, 49, 12, 669000, tzinfo=tzlocal())}, {'Name': 'vp960002', 'CreationDate': datetime.datetime(2023, 10, 23, 13, 44, 18, 970000, tzinfo=tzlocal())}], 'Owner': {'DisplayName': 'minio', 'ID': '02d6176db174dc93cb1b899f7c6078f08654445fe8cf1b6ce98d8855f66bdbf4'}}\n"
     ]
    }
   ],
   "source": [
    "resp = s3client.list_buckets()\n",
    "print(resp)"
   ]
  },
  {
   "cell_type": "markdown",
   "id": "a68ab983-21e4-47c9-9476-bb9d7603e229",
   "metadata": {},
   "source": [
    "Create your own bucket (if you are allowed!)"
   ]
  },
  {
   "cell_type": "code",
   "execution_count": 6,
   "id": "1485a6fb-7ba1-4a3d-9120-7e4810eb6c60",
   "metadata": {},
   "outputs": [
    {
     "ename": "ClientError",
     "evalue": "An error occurred (InvalidBucketName) when calling the CreateBucket operation: The specified bucket is not valid.",
     "output_type": "error",
     "traceback": [
      "\u001b[0;31m---------------------------------------------------------------------------\u001b[0m",
      "\u001b[0;31mClientError\u001b[0m                               Traceback (most recent call last)",
      "Cell \u001b[0;32mIn[6], line 2\u001b[0m\n\u001b[1;32m      1\u001b[0m bucket_name \u001b[38;5;241m=\u001b[39m \u001b[38;5;124m'\u001b[39m\u001b[38;5;124mlia_bucket1\u001b[39m\u001b[38;5;124m'\u001b[39m\n\u001b[0;32m----> 2\u001b[0m s3bucket \u001b[38;5;241m=\u001b[39m \u001b[43ms3client\u001b[49m\u001b[38;5;241;43m.\u001b[39;49m\u001b[43mcreate_bucket\u001b[49m\u001b[43m(\u001b[49m\u001b[43mBucket\u001b[49m\u001b[38;5;241;43m=\u001b[39;49m\u001b[43mbucket_name\u001b[49m\u001b[43m)\u001b[49m\n\u001b[1;32m      3\u001b[0m resp \u001b[38;5;241m=\u001b[39m s3client\u001b[38;5;241m.\u001b[39mlist_buckets()\n\u001b[1;32m      4\u001b[0m \u001b[38;5;28mprint\u001b[39m(resp)\n",
      "File \u001b[0;32m/opt/conda/lib/python3.10/site-packages/botocore/client.py:535\u001b[0m, in \u001b[0;36mClientCreator._create_api_method.<locals>._api_call\u001b[0;34m(self, *args, **kwargs)\u001b[0m\n\u001b[1;32m    531\u001b[0m     \u001b[38;5;28;01mraise\u001b[39;00m \u001b[38;5;167;01mTypeError\u001b[39;00m(\n\u001b[1;32m    532\u001b[0m         \u001b[38;5;124mf\u001b[39m\u001b[38;5;124m\"\u001b[39m\u001b[38;5;132;01m{\u001b[39;00mpy_operation_name\u001b[38;5;132;01m}\u001b[39;00m\u001b[38;5;124m() only accepts keyword arguments.\u001b[39m\u001b[38;5;124m\"\u001b[39m\n\u001b[1;32m    533\u001b[0m     )\n\u001b[1;32m    534\u001b[0m \u001b[38;5;66;03m# The \"self\" in this scope is referring to the BaseClient.\u001b[39;00m\n\u001b[0;32m--> 535\u001b[0m \u001b[38;5;28;01mreturn\u001b[39;00m \u001b[38;5;28;43mself\u001b[39;49m\u001b[38;5;241;43m.\u001b[39;49m\u001b[43m_make_api_call\u001b[49m\u001b[43m(\u001b[49m\u001b[43moperation_name\u001b[49m\u001b[43m,\u001b[49m\u001b[43m \u001b[49m\u001b[43mkwargs\u001b[49m\u001b[43m)\u001b[49m\n",
      "File \u001b[0;32m/opt/conda/lib/python3.10/site-packages/botocore/client.py:980\u001b[0m, in \u001b[0;36mBaseClient._make_api_call\u001b[0;34m(self, operation_name, api_params)\u001b[0m\n\u001b[1;32m    978\u001b[0m     error_code \u001b[38;5;241m=\u001b[39m parsed_response\u001b[38;5;241m.\u001b[39mget(\u001b[38;5;124m\"\u001b[39m\u001b[38;5;124mError\u001b[39m\u001b[38;5;124m\"\u001b[39m, {})\u001b[38;5;241m.\u001b[39mget(\u001b[38;5;124m\"\u001b[39m\u001b[38;5;124mCode\u001b[39m\u001b[38;5;124m\"\u001b[39m)\n\u001b[1;32m    979\u001b[0m     error_class \u001b[38;5;241m=\u001b[39m \u001b[38;5;28mself\u001b[39m\u001b[38;5;241m.\u001b[39mexceptions\u001b[38;5;241m.\u001b[39mfrom_code(error_code)\n\u001b[0;32m--> 980\u001b[0m     \u001b[38;5;28;01mraise\u001b[39;00m error_class(parsed_response, operation_name)\n\u001b[1;32m    981\u001b[0m \u001b[38;5;28;01melse\u001b[39;00m:\n\u001b[1;32m    982\u001b[0m     \u001b[38;5;28;01mreturn\u001b[39;00m parsed_response\n",
      "\u001b[0;31mClientError\u001b[0m: An error occurred (InvalidBucketName) when calling the CreateBucket operation: The specified bucket is not valid."
     ]
    }
   ],
   "source": [
    "bucket_name = 'lia_bucket1'\n",
    "s3bucket = s3client.create_bucket(Bucket=bucket_name)\n",
    "resp = s3client.list_buckets()\n",
    "print(resp)\n",
    "# non funziona perché possiamo scrivere solo il bucket con il nostro username, non abbiamo permessi di scrittura di altri bucket"
   ]
  },
  {
   "cell_type": "markdown",
   "id": "903269e2-8454-4929-9deb-6f9641127061",
   "metadata": {},
   "source": [
    "Print only the Bucket name(s)"
   ]
  },
  {
   "cell_type": "code",
   "execution_count": 7,
   "id": "58369ec9-327e-4b0f-b48f-19304344d5f5",
   "metadata": {},
   "outputs": [
    {
     "name": "stdout",
     "output_type": "stream",
     "text": [
      "acostantini\n",
      "adavanzo\n",
      "alba-2d2d2d2d2d2d2d2d2d2d2d2egonzalvez\n",
      "alba-2d2d2d2d2d2d2d2d2d2d2egonzalvez\n",
      "alba-2d2d2d2d2d2d2d2d2d2egonzalvez\n",
      "alba-2d2d2d2d2d2d2d2d2egonzalvez\n",
      "alba-2d2d2d2d2d2d2d2egonzalvez\n",
      "alba-2d2d2d2d2d2d2egonzalvez\n",
      "alba-2d2d2d2d2d2egonzalvez\n",
      "alba-2d2d2d2d2egonzalvez\n",
      "alba-2d2d2d2egonzalvez\n",
      "alba-2d2d2egonzalvez\n",
      "alba-2d2egonzalvez\n",
      "alba-2egonzalvez\n",
      "anderlinil\n",
      "andreaadelfio\n",
      "andreaespis\n",
      "annacalanca\n",
      "atroja\n",
      "augustotortora\n",
      "bianco95\n",
      "cmarcon-2d2d2d2d2d2d5fsosc\n",
      "cmarcon-2d2d2d2d2d5fsosc\n",
      "cmarcon-2d2d2d2d5fsosc\n",
      "cmarcon-2d2d2d5fsosc\n",
      "cmarcon-2d2d5fsosc\n",
      "cmarcon-2d5fsosc\n",
      "cmarcon-5fsosc\n",
      "dciangot\n",
      "dpelosi\n",
      "dranieri\n",
      "fdelcorso\n",
      "federicocorchia\n",
      "flizzi\n",
      "giacomo-2d2d2d2d2ecoran\n",
      "giacomo-2d2d2d2ecoran\n",
      "giacomo-2d2d2ecoran\n",
      "giacomo-2d2ecoran\n",
      "giacomo-2ecoran\n",
      "gianlucasabella\n",
      "giorgiodho\n",
      "gmalatesta\n",
      "gvino\n",
      "lia-2d2d2elavezzi\n",
      "lia-2d2elavezzi\n",
      "lia-2elavezzi\n",
      "lmagenta\n",
      "ltabarroni\n",
      "lucamancini\n",
      "marialisa-2d2d2d2d2d2d2d2d2ebrozzetti\n",
      "marialisa-2d2d2d2d2d2d2d2ebrozzetti\n",
      "marialisa-2d2d2d2d2d2d2ebrozzetti\n",
      "marialisa-2d2d2d2d2d2ebrozzetti\n",
      "marialisa-2d2d2d2d2ebrozzetti\n",
      "marialisa-2d2d2d2ebrozzetti\n",
      "marialisa-2d2d2ebrozzetti\n",
      "marialisa-2d2ebrozzetti\n",
      "marialisa-2ebrozzetti\n",
      "matpauranoo\n",
      "mmirko\n",
      "nutc22\n",
      "onofrioa\n",
      "petrinir\n",
      "roberto-2d2d2d2d2d2eperon\n",
      "roberto-2d2d2d2d2eperon\n",
      "roberto-2d2d2d2eperon\n",
      "roberto-2d2d2eperon\n",
      "roberto-2d2eperon\n",
      "roberto-2eperon\n",
      "sara-2d2d2d2d2d2d2d2d2d2d2d2d2d2egelsumini\n",
      "sara-2d2d2d2d2d2d2d2d2d2d2d2d2egelsumini\n",
      "sara-2d2d2d2d2d2d2d2d2d2d2d2egelsumini\n",
      "sara-2d2d2d2d2d2d2d2d2d2d2egelsumini\n",
      "sara-2d2d2d2d2d2d2d2d2d2egelsumini\n",
      "sara-2d2d2d2d2d2d2d2d2egelsumini\n",
      "sara-2d2d2d2d2d2d2d2egelsumini\n",
      "sara-2d2d2d2d2d2d2egelsumini\n",
      "sara-2d2d2d2d2d2egelsumini\n",
      "sara-2d2d2d2d2egelsumini\n",
      "sara-2d2d2d2egelsumini\n",
      "sara-2d2d2egelsumini\n",
      "sara-2d2egelsumini\n",
      "sara-2egelsumini\n",
      "spiga\n",
      "szotti\n",
      "ttedesch\n",
      "usamakhan\n",
      "vp960002\n"
     ]
    }
   ],
   "source": [
    "resp = s3client.list_buckets()\n",
    "for bucket in resp['Buckets']:\n",
    "        print(bucket['Name'])"
   ]
  },
  {
   "cell_type": "markdown",
   "id": "72bf5bee-6d6e-4c20-a0b4-0300c2bfe28b",
   "metadata": {},
   "source": [
    "Retrieve the policy for the specified bucket (check the MINIO console)"
   ]
  },
  {
   "cell_type": "code",
   "execution_count": 19,
   "id": "2d9985f0-8fc5-49e5-b02d-2471640f147f",
   "metadata": {},
   "outputs": [
    {
     "name": "stdout",
     "output_type": "stream",
     "text": [
      "{'ResponseMetadata': {'RequestId': '17910318AA25D7E8', 'HostId': 'dd9025bab4ad464b049177c95eb6ebf374d3b3fd1af9251148b658df7ac2e3e8', 'HTTPStatusCode': 200, 'HTTPHeaders': {'date': 'Tue, 24 Oct 2023 10:05:38 GMT', 'content-type': 'application/json', 'content-length': '168', 'connection': 'keep-alive', 'accept-ranges': 'bytes', 'strict-transport-security': 'max-age=15724800; includeSubDomains', 'vary': 'Origin, Accept-Encoding', 'x-amz-id-2': 'dd9025bab4ad464b049177c95eb6ebf374d3b3fd1af9251148b658df7ac2e3e8', 'x-amz-request-id': '17910318AA25D7E8', 'x-content-type-options': 'nosniff', 'x-xss-protection': '1; mode=block'}, 'RetryAttempts': 0}, 'Policy': '{\"Version\":\"2012-10-17\",\"Statement\":[{\"Sid\":\"AddPerm\",\"Effect\":\"Allow\",\"Principal\":{\"AWS\":[\"*\"]},\"Action\":[\"s3:ListBucket\"],\"Resource\":[\"arn:aws:s3:::lia-2elavezzi\"]}]}'}\n",
      "{\"Version\":\"2012-10-17\",\"Statement\":[{\"Sid\":\"AddPerm\",\"Effect\":\"Allow\",\"Principal\":{\"AWS\":[\"*\"]},\"Action\":[\"s3:ListBucket\"],\"Resource\":[\"arn:aws:s3:::lia-2elavezzi\"]}]}\n"
     ]
    }
   ],
   "source": [
    "bucket_name = 'lia-2elavezzi'\n",
    "resp = s3client.get_bucket_policy(Bucket=bucket_name,)\n",
    "print(resp)\n",
    "print(resp['Policy'])"
   ]
  },
  {
   "cell_type": "markdown",
   "id": "4f38735d-e5ae-4166-a266-674662ba4bea",
   "metadata": {},
   "source": [
    "Create your own bucket policy"
   ]
  },
  {
   "cell_type": "code",
   "execution_count": 20,
   "id": "e5273833-331c-4141-8051-93d7d0af2e21",
   "metadata": {},
   "outputs": [
    {
     "name": "stdout",
     "output_type": "stream",
     "text": [
      "{'ResponseMetadata': {'RequestId': '17910319E3EE9076', 'HostId': 'dd9025bab4ad464b049177c95eb6ebf374d3b3fd1af9251148b658df7ac2e3e8', 'HTTPStatusCode': 200, 'HTTPHeaders': {'date': 'Tue, 24 Oct 2023 10:05:44 GMT', 'content-type': 'application/json', 'content-length': '168', 'connection': 'keep-alive', 'accept-ranges': 'bytes', 'strict-transport-security': 'max-age=15724800; includeSubDomains', 'vary': 'Origin, Accept-Encoding', 'x-amz-id-2': 'dd9025bab4ad464b049177c95eb6ebf374d3b3fd1af9251148b658df7ac2e3e8', 'x-amz-request-id': '17910319E3EE9076', 'x-content-type-options': 'nosniff', 'x-xss-protection': '1; mode=block'}, 'RetryAttempts': 0}, 'Policy': '{\"Version\":\"2012-10-17\",\"Statement\":[{\"Sid\":\"AddPerm\",\"Effect\":\"Allow\",\"Principal\":{\"AWS\":[\"*\"]},\"Action\":[\"s3:ListBucket\"],\"Resource\":[\"arn:aws:s3:::lia-2elavezzi\"]}]}'}\n"
     ]
    }
   ],
   "source": [
    "bucket_name = 'lia-2elavezzi'\n",
    "bucket_policy = {\n",
    "    'Version': '2012-10-17',\n",
    "    'Statement': [{\n",
    "        'Sid': 'AddPerm',\n",
    "        'Effect': 'Allow',\n",
    "        'Principal': '*',\n",
    "        'Action': ['s3:ListBucket'],\n",
    "        'Resource': f'arn:aws:s3:::{bucket_name}'\n",
    "    }]\n",
    "}\n",
    "\n",
    "# Convert the policy from JSON dict to string\n",
    "bucket_policy = json.dumps(bucket_policy)\n",
    "\n",
    "# Set the new policy\n",
    "s3client.put_bucket_policy(Bucket=bucket_name, Policy=bucket_policy)\n",
    "resp = s3client.get_bucket_policy(Bucket=bucket_name,)\n",
    "print(resp)\n"
   ]
  },
  {
   "cell_type": "markdown",
   "id": "a8b24cba-a3d7-4de4-8124-a4273ba39b86",
   "metadata": {},
   "source": [
    "Upload an object (upload or create a couple of txt file such as test.txt and test2.txt)"
   ]
  },
  {
   "cell_type": "code",
   "execution_count": 21,
   "id": "d65963f2-c370-4f0e-9f6c-5726971c5068",
   "metadata": {},
   "outputs": [
    {
     "name": "stdout",
     "output_type": "stream",
     "text": [
      "{'ResponseMetadata': {'RequestId': '1791031B48B76EC8', 'HostId': 'dd9025bab4ad464b049177c95eb6ebf374d3b3fd1af9251148b658df7ac2e3e8', 'HTTPStatusCode': 200, 'HTTPHeaders': {'date': 'Tue, 24 Oct 2023 10:05:50 GMT', 'content-type': 'application/xml', 'content-length': '920', 'connection': 'keep-alive', 'accept-ranges': 'bytes', 'strict-transport-security': 'max-age=15724800; includeSubDomains', 'vary': 'Origin, Accept-Encoding', 'x-amz-id-2': 'dd9025bab4ad464b049177c95eb6ebf374d3b3fd1af9251148b658df7ac2e3e8', 'x-amz-request-id': '1791031B48B76EC8', 'x-content-type-options': 'nosniff', 'x-xss-protection': '1; mode=block'}, 'RetryAttempts': 0}, 'IsTruncated': False, 'Marker': '', 'Contents': [{'Key': 'test/test.txt', 'LastModified': datetime.datetime(2023, 10, 24, 9, 59, 34, 256000, tzinfo=tzlocal()), 'ETag': '\"9b1529ddfd06b2046b2615f58ad2829f\"', 'Size': 6, 'StorageClass': 'STANDARD', 'Owner': {'DisplayName': 'minio', 'ID': '02d6176db174dc93cb1b899f7c6078f08654445fe8cf1b6ce98d8855f66bdbf4'}}, {'Key': 'test/test2.txt', 'LastModified': datetime.datetime(2023, 10, 24, 10, 5, 50, 169000, tzinfo=tzlocal()), 'ETag': '\"6e6bc4e49dd477ebc98ef4046c067b5f\"', 'Size': 4, 'StorageClass': 'STANDARD', 'Owner': {'DisplayName': 'minio', 'ID': '02d6176db174dc93cb1b899f7c6078f08654445fe8cf1b6ce98d8855f66bdbf4'}}], 'Name': 'lia-2elavezzi', 'Prefix': '', 'MaxKeys': 1000, 'EncodingType': 'url'}\n"
     ]
    }
   ],
   "source": [
    "bucket_name = 'lia-2elavezzi'\n",
    "upload = s3client.upload_file('test2.txt', bucket_name, 'test/test2.txt')\n",
    "resp = s3client.list_objects(Bucket=bucket_name)\n",
    "print(resp)"
   ]
  },
  {
   "cell_type": "markdown",
   "id": "caf7b23a-71cc-44ad-81a7-17c337a41156",
   "metadata": {},
   "source": [
    "List Object in a bucket"
   ]
  },
  {
   "cell_type": "code",
   "execution_count": 22,
   "id": "780c33c0-f3b6-43fd-babe-0d65292dfd2a",
   "metadata": {},
   "outputs": [
    {
     "name": "stdout",
     "output_type": "stream",
     "text": [
      "test/test.txt\n",
      "test/test2.txt\n"
     ]
    }
   ],
   "source": [
    "bucket_name = 'lia-2elavezzi'\n",
    "resp = s3client.list_objects(Bucket=bucket_name)\n",
    "for object in resp['Contents']:\n",
    "        print(object['Key'])"
   ]
  },
  {
   "cell_type": "markdown",
   "id": "11c8118b-3049-454c-8392-3ec76673234b",
   "metadata": {},
   "source": [
    "List metadata of an Object"
   ]
  },
  {
   "cell_type": "code",
   "execution_count": 23,
   "id": "63c421e7-4703-4eb1-b49a-d8bf1ce4fca0",
   "metadata": {},
   "outputs": [
    {
     "name": "stdout",
     "output_type": "stream",
     "text": [
      "test/test.txt\n",
      "{'ResponseMetadata': {'RequestId': '1791031F90E40AFD', 'HostId': 'dd9025bab4ad464b049177c95eb6ebf374d3b3fd1af9251148b658df7ac2e3e8', 'HTTPStatusCode': 200, 'HTTPHeaders': {'date': 'Tue, 24 Oct 2023 10:06:08 GMT', 'content-type': 'binary/octet-stream', 'content-length': '6', 'connection': 'keep-alive', 'accept-ranges': 'bytes', 'etag': '\"9b1529ddfd06b2046b2615f58ad2829f\"', 'last-modified': 'Tue, 24 Oct 2023 09:59:34 GMT', 'strict-transport-security': 'max-age=15724800; includeSubDomains', 'vary': 'Origin, Accept-Encoding', 'x-amz-id-2': 'dd9025bab4ad464b049177c95eb6ebf374d3b3fd1af9251148b658df7ac2e3e8', 'x-amz-request-id': '1791031F90E40AFD', 'x-content-type-options': 'nosniff', 'x-xss-protection': '1; mode=block'}, 'RetryAttempts': 0}, 'AcceptRanges': 'bytes', 'LastModified': datetime.datetime(2023, 10, 24, 9, 59, 34, tzinfo=tzutc()), 'ContentLength': 6, 'ETag': '\"9b1529ddfd06b2046b2615f58ad2829f\"', 'ContentType': 'binary/octet-stream', 'Metadata': {}}\n",
      "test/test2.txt\n",
      "{'ResponseMetadata': {'RequestId': '1791031F914D83B3', 'HostId': 'dd9025bab4ad464b049177c95eb6ebf374d3b3fd1af9251148b658df7ac2e3e8', 'HTTPStatusCode': 200, 'HTTPHeaders': {'date': 'Tue, 24 Oct 2023 10:06:08 GMT', 'content-type': 'binary/octet-stream', 'content-length': '4', 'connection': 'keep-alive', 'accept-ranges': 'bytes', 'etag': '\"6e6bc4e49dd477ebc98ef4046c067b5f\"', 'last-modified': 'Tue, 24 Oct 2023 10:05:50 GMT', 'strict-transport-security': 'max-age=15724800; includeSubDomains', 'vary': 'Origin, Accept-Encoding', 'x-amz-id-2': 'dd9025bab4ad464b049177c95eb6ebf374d3b3fd1af9251148b658df7ac2e3e8', 'x-amz-request-id': '1791031F914D83B3', 'x-content-type-options': 'nosniff', 'x-xss-protection': '1; mode=block'}, 'RetryAttempts': 0}, 'AcceptRanges': 'bytes', 'LastModified': datetime.datetime(2023, 10, 24, 10, 5, 50, tzinfo=tzutc()), 'ContentLength': 4, 'ETag': '\"6e6bc4e49dd477ebc98ef4046c067b5f\"', 'ContentType': 'binary/octet-stream', 'Metadata': {}}\n"
     ]
    }
   ],
   "source": [
    "bucket_name = 'lia-2elavezzi'\n",
    "resp = s3client.list_objects(Bucket=bucket_name)\n",
    "##print(resp)\n",
    "for object in resp['Contents']:\n",
    "    print(object['Key'])\n",
    "    metadata = s3client.head_object(Bucket=bucket_name, Key=object['Key'])\n",
    "    print(metadata)"
   ]
  },
  {
   "cell_type": "markdown",
   "id": "410dee02-2fe5-4395-8147-058bbd734c2c",
   "metadata": {},
   "source": [
    "Add personalized metadata"
   ]
  },
  {
   "cell_type": "code",
   "execution_count": 23,
   "id": "04e82294-8a69-4da4-8a42-654c084a57c8",
   "metadata": {},
   "outputs": [
    {
     "name": "stdout",
     "output_type": "stream",
     "text": [
      "test/test.txt\n",
      "{'ResponseMetadata': {'RequestId': '1791031F90E40AFD', 'HostId': 'dd9025bab4ad464b049177c95eb6ebf374d3b3fd1af9251148b658df7ac2e3e8', 'HTTPStatusCode': 200, 'HTTPHeaders': {'date': 'Tue, 24 Oct 2023 10:06:08 GMT', 'content-type': 'binary/octet-stream', 'content-length': '6', 'connection': 'keep-alive', 'accept-ranges': 'bytes', 'etag': '\"9b1529ddfd06b2046b2615f58ad2829f\"', 'last-modified': 'Tue, 24 Oct 2023 09:59:34 GMT', 'strict-transport-security': 'max-age=15724800; includeSubDomains', 'vary': 'Origin, Accept-Encoding', 'x-amz-id-2': 'dd9025bab4ad464b049177c95eb6ebf374d3b3fd1af9251148b658df7ac2e3e8', 'x-amz-request-id': '1791031F90E40AFD', 'x-content-type-options': 'nosniff', 'x-xss-protection': '1; mode=block'}, 'RetryAttempts': 0}, 'AcceptRanges': 'bytes', 'LastModified': datetime.datetime(2023, 10, 24, 9, 59, 34, tzinfo=tzutc()), 'ContentLength': 6, 'ETag': '\"9b1529ddfd06b2046b2615f58ad2829f\"', 'ContentType': 'binary/octet-stream', 'Metadata': {}}\n",
      "test/test2.txt\n",
      "{'ResponseMetadata': {'RequestId': '1791031F914D83B3', 'HostId': 'dd9025bab4ad464b049177c95eb6ebf374d3b3fd1af9251148b658df7ac2e3e8', 'HTTPStatusCode': 200, 'HTTPHeaders': {'date': 'Tue, 24 Oct 2023 10:06:08 GMT', 'content-type': 'binary/octet-stream', 'content-length': '4', 'connection': 'keep-alive', 'accept-ranges': 'bytes', 'etag': '\"6e6bc4e49dd477ebc98ef4046c067b5f\"', 'last-modified': 'Tue, 24 Oct 2023 10:05:50 GMT', 'strict-transport-security': 'max-age=15724800; includeSubDomains', 'vary': 'Origin, Accept-Encoding', 'x-amz-id-2': 'dd9025bab4ad464b049177c95eb6ebf374d3b3fd1af9251148b658df7ac2e3e8', 'x-amz-request-id': '1791031F914D83B3', 'x-content-type-options': 'nosniff', 'x-xss-protection': '1; mode=block'}, 'RetryAttempts': 0}, 'AcceptRanges': 'bytes', 'LastModified': datetime.datetime(2023, 10, 24, 10, 5, 50, tzinfo=tzutc()), 'ContentLength': 4, 'ETag': '\"6e6bc4e49dd477ebc98ef4046c067b5f\"', 'ContentType': 'binary/octet-stream', 'Metadata': {}}\n"
     ]
    }
   ],
   "source": [
    "bucket_name = 'lia-2elavezzi'\n",
    "resp = s3client.list_objects(Bucket=bucket_name)\n",
    "##print(resp)\n",
    "for object in resp['Contents']:\n",
    "    print(object['Key'])\n",
    "    metadata = s3client.head_object(Bucket=bucket_name, Key=object['Key'])\n",
    "    print(metadata)"
   ]
  },
  {
   "cell_type": "code",
   "execution_count": 28,
   "id": "997318e9-62b0-44f8-9083-c6fc29b47b4f",
   "metadata": {},
   "outputs": [
    {
     "name": "stdout",
     "output_type": "stream",
     "text": [
      "test/test.txt\n",
      "{'ResponseMetadata': {'RequestId': '1791037817B9C4E1', 'HostId': 'dd9025bab4ad464b049177c95eb6ebf374d3b3fd1af9251148b658df7ac2e3e8', 'HTTPStatusCode': 200, 'HTTPHeaders': {'date': 'Tue, 24 Oct 2023 10:12:28 GMT', 'content-type': 'binary/octet-stream', 'content-length': '6', 'connection': 'keep-alive', 'accept-ranges': 'bytes', 'etag': '\"9b1529ddfd06b2046b2615f58ad2829f\"', 'last-modified': 'Tue, 24 Oct 2023 10:09:30 GMT', 'strict-transport-security': 'max-age=15724800; includeSubDomains', 'vary': 'Origin, Accept-Encoding', 'x-amz-id-2': 'dd9025bab4ad464b049177c95eb6ebf374d3b3fd1af9251148b658df7ac2e3e8', 'x-amz-request-id': '1791037817B9C4E1', 'x-content-type-options': 'nosniff', 'x-xss-protection': '1; mode=block', 'x-amz-meta-whatisit': 'this_is_my_file'}, 'RetryAttempts': 0}, 'AcceptRanges': 'bytes', 'LastModified': datetime.datetime(2023, 10, 24, 10, 9, 30, tzinfo=tzutc()), 'ContentLength': 6, 'ETag': '\"9b1529ddfd06b2046b2615f58ad2829f\"', 'ContentType': 'binary/octet-stream', 'Metadata': {'whatisit': 'this_is_my_file'}}\n",
      "test/test2.txt\n",
      "{'ResponseMetadata': {'RequestId': '1791037818BE5059', 'HostId': 'dd9025bab4ad464b049177c95eb6ebf374d3b3fd1af9251148b658df7ac2e3e8', 'HTTPStatusCode': 200, 'HTTPHeaders': {'date': 'Tue, 24 Oct 2023 10:12:28 GMT', 'content-type': 'binary/octet-stream', 'content-length': '4', 'connection': 'keep-alive', 'accept-ranges': 'bytes', 'etag': '\"6e6bc4e49dd477ebc98ef4046c067b5f\"', 'last-modified': 'Tue, 24 Oct 2023 10:09:30 GMT', 'strict-transport-security': 'max-age=15724800; includeSubDomains', 'vary': 'Origin, Accept-Encoding', 'x-amz-id-2': 'dd9025bab4ad464b049177c95eb6ebf374d3b3fd1af9251148b658df7ac2e3e8', 'x-amz-request-id': '1791037818BE5059', 'x-content-type-options': 'nosniff', 'x-xss-protection': '1; mode=block', 'x-amz-meta-whatisit': 'this_is_my_file'}, 'RetryAttempts': 0}, 'AcceptRanges': 'bytes', 'LastModified': datetime.datetime(2023, 10, 24, 10, 9, 30, tzinfo=tzutc()), 'ContentLength': 4, 'ETag': '\"6e6bc4e49dd477ebc98ef4046c067b5f\"', 'ContentType': 'binary/octet-stream', 'Metadata': {'whatisit': 'this_is_my_file'}}\n",
      "{'ResponseMetadata': {'RequestId': '1791037819A1D8E3', 'HostId': 'dd9025bab4ad464b049177c95eb6ebf374d3b3fd1af9251148b658df7ac2e3e8', 'HTTPStatusCode': 200, 'HTTPHeaders': {'date': 'Tue, 24 Oct 2023 10:12:28 GMT', 'content-type': 'binary/octet-stream', 'content-length': '4', 'connection': 'keep-alive', 'accept-ranges': 'bytes', 'etag': '\"6e6bc4e49dd477ebc98ef4046c067b5f\"', 'last-modified': 'Tue, 24 Oct 2023 10:12:28 GMT', 'strict-transport-security': 'max-age=15724800; includeSubDomains', 'vary': 'Origin, Accept-Encoding', 'x-amz-id-2': 'dd9025bab4ad464b049177c95eb6ebf374d3b3fd1af9251148b658df7ac2e3e8', 'x-amz-request-id': '1791037819A1D8E3', 'x-content-type-options': 'nosniff', 'x-xss-protection': '1; mode=block', 'x-amz-meta-whatisit': 'this_is_my_file', 'x-amz-meta-whatisit2': 'this_is_my_file2'}, 'RetryAttempts': 0}, 'AcceptRanges': 'bytes', 'LastModified': datetime.datetime(2023, 10, 24, 10, 12, 28, tzinfo=tzutc()), 'ContentLength': 4, 'ETag': '\"6e6bc4e49dd477ebc98ef4046c067b5f\"', 'ContentType': 'binary/octet-stream', 'Metadata': {'whatisit': 'this_is_my_file', 'whatisit2': 'this_is_my_file2'}}\n"
     ]
    }
   ],
   "source": [
    "bucket_name = 'lia-2elavezzi'\n",
    "resp = s3client.list_objects(Bucket=bucket_name)\n",
    "for object in resp['Contents']:\n",
    "    print(object['Key'])\n",
    "    metadata = s3client.head_object(Bucket=bucket_name, Key=object['Key'])\n",
    "    print(metadata)\n",
    "    new_meta = metadata['Metadata']\n",
    "    new_meta['WhatIsIt2'] = 'this_is_my_file2'\n",
    "    s3client.copy_object(Bucket=bucket_name, Key=object['Key'], CopySource=bucket_name + '/' + object['Key'], Metadata=new_meta, MetadataDirective='REPLACE')\n",
    "metadata = s3client.head_object(Bucket=bucket_name, Key=object['Key'])\n",
    "print(metadata)"
   ]
  },
  {
   "cell_type": "markdown",
   "id": "602ca1dd-7ac7-49a6-a9f1-90b25bbc2135",
   "metadata": {},
   "source": [
    "Delete an Object"
   ]
  },
  {
   "cell_type": "code",
   "execution_count": 29,
   "id": "0e83cfdf-ec78-45cf-97ba-778fbe75b21c",
   "metadata": {},
   "outputs": [
    {
     "name": "stdout",
     "output_type": "stream",
     "text": [
      "test/test.txt\n",
      "test/test2.txt\n",
      "{'ResponseMetadata': {'RequestId': '179103AFC3633ED6', 'HostId': 'dd9025bab4ad464b049177c95eb6ebf374d3b3fd1af9251148b658df7ac2e3e8', 'HTTPStatusCode': 200, 'HTTPHeaders': {'date': 'Tue, 24 Oct 2023 10:16:27 GMT', 'content-type': 'application/xml', 'content-length': '271', 'connection': 'keep-alive', 'accept-ranges': 'bytes', 'strict-transport-security': 'max-age=15724800; includeSubDomains', 'vary': 'Origin, Accept-Encoding', 'x-amz-id-2': 'dd9025bab4ad464b049177c95eb6ebf374d3b3fd1af9251148b658df7ac2e3e8', 'x-amz-request-id': '179103AFC3633ED6', 'x-content-type-options': 'nosniff', 'x-xss-protection': '1; mode=block'}, 'RetryAttempts': 0}, 'IsTruncated': False, 'Marker': '', 'Name': 'lia-2elavezzi', 'Prefix': '', 'MaxKeys': 1000, 'EncodingType': 'url'}\n"
     ]
    }
   ],
   "source": [
    "bucket_name = 'lia-2elavezzi'\n",
    "resp = s3client.list_objects(Bucket=bucket_name)\n",
    "for object in resp['Contents']:\n",
    "    print(object['Key'])\n",
    "    s3client.delete_object(Bucket=bucket_name, Key=object['Key'])\n",
    "resp = s3client.list_objects(Bucket=bucket_name)\n",
    "print(resp)"
   ]
  },
  {
   "cell_type": "code",
   "execution_count": null,
   "id": "0a7796f6-efdb-418b-80af-21d38f332269",
   "metadata": {},
   "outputs": [],
   "source": []
  }
 ],
 "metadata": {
  "kernelspec": {
   "display_name": "Python 3 (ipykernel)",
   "language": "python",
   "name": "python3"
  },
  "language_info": {
   "codemirror_mode": {
    "name": "ipython",
    "version": 3
   },
   "file_extension": ".py",
   "mimetype": "text/x-python",
   "name": "python",
   "nbconvert_exporter": "python",
   "pygments_lexer": "ipython3",
   "version": "3.10.11"
  }
 },
 "nbformat": 4,
 "nbformat_minor": 5
}
